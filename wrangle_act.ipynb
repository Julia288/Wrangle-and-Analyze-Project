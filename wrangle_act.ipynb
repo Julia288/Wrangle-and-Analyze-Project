{
 "cells": [
  {
   "cell_type": "markdown",
   "metadata": {},
   "source": [
    "# Wrangle and Analyze Project"
   ]
  },
  {
   "cell_type": "code",
   "execution_count": 1,
   "metadata": {},
   "outputs": [],
   "source": [
    "#Import all packages needed\n",
    "import pandas as pd\n",
    "import numpy as np\n",
    "import matplotlib.pyplot as plt\n",
    "%matplotlib inline\n",
    "import requests\n",
    "import tweepy \n",
    "import json\n",
    "import time"
   ]
  },
  {
   "cell_type": "markdown",
   "metadata": {},
   "source": [
    "# GATHER"
   ]
  },
  {
   "cell_type": "code",
   "execution_count": 2,
   "metadata": {},
   "outputs": [],
   "source": [
    "#Read given CSV file \"WeRateDogs Twitter archive\" \n",
    "twitter_archive = pd.read_csv('twitter-archive-enhanced.csv')"
   ]
  },
  {
   "cell_type": "code",
   "execution_count": 3,
   "metadata": {},
   "outputs": [
    {
     "data": {
      "text/html": [
       "<div>\n",
       "<style scoped>\n",
       "    .dataframe tbody tr th:only-of-type {\n",
       "        vertical-align: middle;\n",
       "    }\n",
       "\n",
       "    .dataframe tbody tr th {\n",
       "        vertical-align: top;\n",
       "    }\n",
       "\n",
       "    .dataframe thead th {\n",
       "        text-align: right;\n",
       "    }\n",
       "</style>\n",
       "<table border=\"1\" class=\"dataframe\">\n",
       "  <thead>\n",
       "    <tr style=\"text-align: right;\">\n",
       "      <th></th>\n",
       "      <th>tweet_id</th>\n",
       "      <th>in_reply_to_status_id</th>\n",
       "      <th>in_reply_to_user_id</th>\n",
       "      <th>timestamp</th>\n",
       "      <th>source</th>\n",
       "      <th>text</th>\n",
       "      <th>retweeted_status_id</th>\n",
       "      <th>retweeted_status_user_id</th>\n",
       "      <th>retweeted_status_timestamp</th>\n",
       "      <th>expanded_urls</th>\n",
       "      <th>rating_numerator</th>\n",
       "      <th>rating_denominator</th>\n",
       "      <th>name</th>\n",
       "      <th>doggo</th>\n",
       "      <th>floofer</th>\n",
       "      <th>pupper</th>\n",
       "      <th>puppo</th>\n",
       "    </tr>\n",
       "  </thead>\n",
       "  <tbody>\n",
       "    <tr>\n",
       "      <th>0</th>\n",
       "      <td>892420643555336193</td>\n",
       "      <td>NaN</td>\n",
       "      <td>NaN</td>\n",
       "      <td>2017-08-01 16:23:56 +0000</td>\n",
       "      <td>&lt;a href=\"http://twitter.com/download/iphone\" r...</td>\n",
       "      <td>This is Phineas. He's a mystical boy. Only eve...</td>\n",
       "      <td>NaN</td>\n",
       "      <td>NaN</td>\n",
       "      <td>NaN</td>\n",
       "      <td>https://twitter.com/dog_rates/status/892420643...</td>\n",
       "      <td>13</td>\n",
       "      <td>10</td>\n",
       "      <td>Phineas</td>\n",
       "      <td>None</td>\n",
       "      <td>None</td>\n",
       "      <td>None</td>\n",
       "      <td>None</td>\n",
       "    </tr>\n",
       "    <tr>\n",
       "      <th>1</th>\n",
       "      <td>892177421306343426</td>\n",
       "      <td>NaN</td>\n",
       "      <td>NaN</td>\n",
       "      <td>2017-08-01 00:17:27 +0000</td>\n",
       "      <td>&lt;a href=\"http://twitter.com/download/iphone\" r...</td>\n",
       "      <td>This is Tilly. She's just checking pup on you....</td>\n",
       "      <td>NaN</td>\n",
       "      <td>NaN</td>\n",
       "      <td>NaN</td>\n",
       "      <td>https://twitter.com/dog_rates/status/892177421...</td>\n",
       "      <td>13</td>\n",
       "      <td>10</td>\n",
       "      <td>Tilly</td>\n",
       "      <td>None</td>\n",
       "      <td>None</td>\n",
       "      <td>None</td>\n",
       "      <td>None</td>\n",
       "    </tr>\n",
       "  </tbody>\n",
       "</table>\n",
       "</div>"
      ],
      "text/plain": [
       "             tweet_id  in_reply_to_status_id  in_reply_to_user_id  \\\n",
       "0  892420643555336193                    NaN                  NaN   \n",
       "1  892177421306343426                    NaN                  NaN   \n",
       "\n",
       "                   timestamp  \\\n",
       "0  2017-08-01 16:23:56 +0000   \n",
       "1  2017-08-01 00:17:27 +0000   \n",
       "\n",
       "                                              source  \\\n",
       "0  <a href=\"http://twitter.com/download/iphone\" r...   \n",
       "1  <a href=\"http://twitter.com/download/iphone\" r...   \n",
       "\n",
       "                                                text  retweeted_status_id  \\\n",
       "0  This is Phineas. He's a mystical boy. Only eve...                  NaN   \n",
       "1  This is Tilly. She's just checking pup on you....                  NaN   \n",
       "\n",
       "   retweeted_status_user_id retweeted_status_timestamp  \\\n",
       "0                       NaN                        NaN   \n",
       "1                       NaN                        NaN   \n",
       "\n",
       "                                       expanded_urls  rating_numerator  \\\n",
       "0  https://twitter.com/dog_rates/status/892420643...                13   \n",
       "1  https://twitter.com/dog_rates/status/892177421...                13   \n",
       "\n",
       "   rating_denominator     name doggo floofer pupper puppo  \n",
       "0                  10  Phineas  None    None   None  None  \n",
       "1                  10    Tilly  None    None   None  None  "
      ]
     },
     "execution_count": 3,
     "metadata": {},
     "output_type": "execute_result"
    }
   ],
   "source": [
    "twitter_archive.head(2)"
   ]
  },
  {
   "cell_type": "markdown",
   "metadata": {},
   "source": [
    "#### Column Description:\n",
    "\n",
    "**tweet_id**: the unique identifier for each tweet\n",
    "\n",
    "**in_reply_to_status_id**: if the represented Tweet is a reply, this field will contain the integer representation of the original Tweet’s ID\n",
    "\n",
    "**in_reply_to_user_id**: if the represented Tweet is a reply, this field will contain the integer representation of the original Tweet’s author ID\n",
    "\n",
    "**timestamp**: time when Tweet was created\n",
    "\n",
    "**source**: utility used to post the Tweet, as an HTML-formatted string. e.g. Twitter for Android, Twitter for iPhone, Twitter Web Client\n",
    "\n",
    "**text**: actual UTF-8 text of the status update\n",
    "\n",
    "**retweeted_status_id**: if Tweet is a retweet, this field will contain the integer representation of the original Tweet’s ID\n",
    "\n",
    "**retweeted_status_user_id**: if Tweet is a retweet, this field will contain the integer representation of the original Tweet’s author ID\n",
    "\n",
    "**retweeted_status_timestamp**: time of retweet\n",
    "\n",
    "**expanded_urls**: tweet URL\n",
    "\n",
    "**rating_numerator**: numerator of the rating of a dog. Note: ratings almost always greater than 10\n",
    "\n",
    "**rating_denominator**: denominator of the rating of a dog. Note: ratings almost always have a denominator of 10\n",
    "\n",
    "**name**: name of the dog\n",
    "\n",
    "**doggo**: one of the 4 dog \"types\"\n",
    "\n",
    "**floofer**: one of the 4 dog \"types\"\n",
    "\n",
    "**pupper**: one of the 4 dog \"types\"\n",
    "\n",
    "**puppo**: one of the 4 dog \"types\""
   ]
  },
  {
   "cell_type": "code",
   "execution_count": 4,
   "metadata": {},
   "outputs": [],
   "source": [
    "#Get image prediction file from Udacity Website\n",
    "url = \"https://d17h27t6h515a5.cloudfront.net/topher/2017/August/599fd2ad_image-predictions/image-predictions.tsv\"\n",
    "response = requests.get(url)\n",
    "\n",
    "with open('image-predictions.tsv', mode ='wb') as file:\n",
    "    file.write(response.content)\n",
    "\n",
    "#Read TSV file\n",
    "image_prediction = pd.read_csv('image-predictions.tsv', sep='\\t' )"
   ]
  },
  {
   "cell_type": "code",
   "execution_count": 5,
   "metadata": {},
   "outputs": [
    {
     "data": {
      "text/html": [
       "<div>\n",
       "<style scoped>\n",
       "    .dataframe tbody tr th:only-of-type {\n",
       "        vertical-align: middle;\n",
       "    }\n",
       "\n",
       "    .dataframe tbody tr th {\n",
       "        vertical-align: top;\n",
       "    }\n",
       "\n",
       "    .dataframe thead th {\n",
       "        text-align: right;\n",
       "    }\n",
       "</style>\n",
       "<table border=\"1\" class=\"dataframe\">\n",
       "  <thead>\n",
       "    <tr style=\"text-align: right;\">\n",
       "      <th></th>\n",
       "      <th>tweet_id</th>\n",
       "      <th>jpg_url</th>\n",
       "      <th>img_num</th>\n",
       "      <th>p1</th>\n",
       "      <th>p1_conf</th>\n",
       "      <th>p1_dog</th>\n",
       "      <th>p2</th>\n",
       "      <th>p2_conf</th>\n",
       "      <th>p2_dog</th>\n",
       "      <th>p3</th>\n",
       "      <th>p3_conf</th>\n",
       "      <th>p3_dog</th>\n",
       "    </tr>\n",
       "  </thead>\n",
       "  <tbody>\n",
       "    <tr>\n",
       "      <th>0</th>\n",
       "      <td>666020888022790149</td>\n",
       "      <td>https://pbs.twimg.com/media/CT4udn0WwAA0aMy.jpg</td>\n",
       "      <td>1</td>\n",
       "      <td>Welsh_springer_spaniel</td>\n",
       "      <td>0.465074</td>\n",
       "      <td>True</td>\n",
       "      <td>collie</td>\n",
       "      <td>0.156665</td>\n",
       "      <td>True</td>\n",
       "      <td>Shetland_sheepdog</td>\n",
       "      <td>0.061428</td>\n",
       "      <td>True</td>\n",
       "    </tr>\n",
       "    <tr>\n",
       "      <th>1</th>\n",
       "      <td>666029285002620928</td>\n",
       "      <td>https://pbs.twimg.com/media/CT42GRgUYAA5iDo.jpg</td>\n",
       "      <td>1</td>\n",
       "      <td>redbone</td>\n",
       "      <td>0.506826</td>\n",
       "      <td>True</td>\n",
       "      <td>miniature_pinscher</td>\n",
       "      <td>0.074192</td>\n",
       "      <td>True</td>\n",
       "      <td>Rhodesian_ridgeback</td>\n",
       "      <td>0.072010</td>\n",
       "      <td>True</td>\n",
       "    </tr>\n",
       "  </tbody>\n",
       "</table>\n",
       "</div>"
      ],
      "text/plain": [
       "             tweet_id                                          jpg_url  \\\n",
       "0  666020888022790149  https://pbs.twimg.com/media/CT4udn0WwAA0aMy.jpg   \n",
       "1  666029285002620928  https://pbs.twimg.com/media/CT42GRgUYAA5iDo.jpg   \n",
       "\n",
       "   img_num                      p1   p1_conf  p1_dog                  p2  \\\n",
       "0        1  Welsh_springer_spaniel  0.465074    True              collie   \n",
       "1        1                 redbone  0.506826    True  miniature_pinscher   \n",
       "\n",
       "    p2_conf  p2_dog                   p3   p3_conf  p3_dog  \n",
       "0  0.156665    True    Shetland_sheepdog  0.061428    True  \n",
       "1  0.074192    True  Rhodesian_ridgeback  0.072010    True  "
      ]
     },
     "execution_count": 5,
     "metadata": {},
     "output_type": "execute_result"
    }
   ],
   "source": [
    "image_prediction.head(2)"
   ]
  },
  {
   "cell_type": "markdown",
   "metadata": {},
   "source": [
    "#### Column Description:\n",
    "\n",
    "**tweet_id**: the unique identifier for each tweet\n",
    "\n",
    "**jpg_url**: dog's image URL\n",
    "\n",
    "**img_num**: the image number that corresponded to the most confident prediction (numbered 1 to 4 since tweets can have up to four images)\n",
    "\n",
    "**p1**: algorithm's #1 prediction for the image in the tweet\n",
    "\n",
    "**p1_conf**: how confident the algorithm is in its #1 prediction\n",
    "\n",
    "**p1_dog**: whether or not the #1 prediction is a breed of dog\n",
    "\n",
    "**p2**: algorithm's #2 prediction for the image in the tweet\n",
    "\n",
    "**p2_conf**: how confident the algorithm is in its #2 prediction\n",
    "\n",
    "**p2_dog**: whether or not the #2 prediction is a breed of dog\n",
    "\n",
    "**p3**: algorithm's #3 prediction for the image in the tweet\n",
    "\n",
    "**p3_conf**: how confident the algorithm is in its #3 prediction\n",
    "\n",
    "**p3_dog**: whether or not the #3 prediction is a breed of dog"
   ]
  },
  {
   "cell_type": "code",
   "execution_count": 6,
   "metadata": {},
   "outputs": [],
   "source": [
    "# Declare Twitter API keys and access tokens\n",
    "consumer_key = ''\n",
    "consumer_secret = ''\n",
    "access_token = ''\n",
    "access_secret = ''"
   ]
  },
  {
   "cell_type": "code",
   "execution_count": 7,
   "metadata": {},
   "outputs": [],
   "source": [
    "auth = tweepy.OAuthHandler(consumer_key, consumer_secret)\n",
    "auth.set_access_token(access_token, access_secret)"
   ]
  },
  {
   "cell_type": "code",
   "execution_count": 8,
   "metadata": {},
   "outputs": [],
   "source": [
    "api = tweepy.API(auth, parser=tweepy.parsers.JSONParser())"
   ]
  },
  {
   "cell_type": "code",
   "execution_count": 9,
   "metadata": {},
   "outputs": [
    {
     "name": "stdout",
     "output_type": "stream",
     "text": [
      "888202515573088257\n",
      "873697596434513921\n",
      "872668790621863937\n",
      "872261713294495745\n",
      "869988702071779329\n",
      "866816280283807744\n",
      "861769973181624320\n",
      "845459076796616705\n",
      "842892208864923648\n",
      "837012587749474308\n",
      "827228250799742977\n",
      "812747805718642688\n",
      "802247111496568832\n",
      "775096608509886464\n",
      "770743923962707968\n",
      "Rate limit reached. Sleeping for: 619\n",
      "754011816964026368\n",
      "680055455951884288\n",
      "Rate limit reached. Sleeping for: 557\n",
      "2543.4357464313507\n"
     ]
    }
   ],
   "source": [
    "# Use Twitter API to collect status data on tweets present in twitter1 dataframe\n",
    "start = time.time() # start timer\n",
    "\n",
    "tweet_ids = list(twitter_archive['tweet_id'])\n",
    "\n",
    "tweet_data = []\n",
    "tweet_id_success = []\n",
    "tweet_id_missing = []\n",
    "for tweet_id in tweet_ids:\n",
    "    try:\n",
    "        data = api.get_status(tweet_id, \n",
    "                              tweet_mode='extended',\n",
    "                              wait_on_rate_limit = True,\n",
    "                              wait_on_rate_limit_notify = True)\n",
    "        tweet_data.append(data)\n",
    "        tweet_id_success.append(tweet_id)\n",
    "    except:\n",
    "        tweet_id_missing.append(tweet_id)\n",
    "        print(tweet_id)\n",
    "        \n",
    "end = time.time() # end timer\n",
    "print(end - start)"
   ]
  },
  {
   "cell_type": "code",
   "execution_count": 10,
   "metadata": {},
   "outputs": [],
   "source": [
    "# Write tweet data to json file\n",
    "with open('tweet_json.txt', mode = 'w') as file:\n",
    "    json.dump(tweet_data, file)"
   ]
  },
  {
   "cell_type": "code",
   "execution_count": 11,
   "metadata": {},
   "outputs": [],
   "source": [
    "# Load the Twitter API data\n",
    "status_df = pd.read_json('tweet_json.txt')\n",
    "status_df['tweet_id'] = tweet_id_success\n",
    "status_df = status_df[['tweet_id', 'favorite_count', 'retweet_count']]"
   ]
  },
  {
   "cell_type": "code",
   "execution_count": 12,
   "metadata": {},
   "outputs": [
    {
     "data": {
      "text/html": [
       "<div>\n",
       "<style scoped>\n",
       "    .dataframe tbody tr th:only-of-type {\n",
       "        vertical-align: middle;\n",
       "    }\n",
       "\n",
       "    .dataframe tbody tr th {\n",
       "        vertical-align: top;\n",
       "    }\n",
       "\n",
       "    .dataframe thead th {\n",
       "        text-align: right;\n",
       "    }\n",
       "</style>\n",
       "<table border=\"1\" class=\"dataframe\">\n",
       "  <thead>\n",
       "    <tr style=\"text-align: right;\">\n",
       "      <th></th>\n",
       "      <th>tweet_id</th>\n",
       "      <th>favorite_count</th>\n",
       "      <th>retweet_count</th>\n",
       "    </tr>\n",
       "  </thead>\n",
       "  <tbody>\n",
       "    <tr>\n",
       "      <th>0</th>\n",
       "      <td>892420643555336193</td>\n",
       "      <td>37805</td>\n",
       "      <td>8244</td>\n",
       "    </tr>\n",
       "    <tr>\n",
       "      <th>1</th>\n",
       "      <td>892177421306343426</td>\n",
       "      <td>32485</td>\n",
       "      <td>6091</td>\n",
       "    </tr>\n",
       "  </tbody>\n",
       "</table>\n",
       "</div>"
      ],
      "text/plain": [
       "             tweet_id  favorite_count  retweet_count\n",
       "0  892420643555336193           37805           8244\n",
       "1  892177421306343426           32485           6091"
      ]
     },
     "execution_count": 12,
     "metadata": {},
     "output_type": "execute_result"
    }
   ],
   "source": [
    "status_df.head(2)"
   ]
  },
  {
   "cell_type": "markdown",
   "metadata": {},
   "source": [
    "#### Column Description\n",
    "\n",
    "**tweet_id**: the unique identifier for each tweet\n",
    "\n",
    "**favorite_count**: indicates approximately how many times this Tweet has been liked by Twitter users\n",
    "\n",
    "**retweet_count**: number of times this Tweet has been retweeted"
   ]
  },
  {
   "cell_type": "markdown",
   "metadata": {},
   "source": [
    "*Sources*:\n",
    "* https://stackabuse.com/reading-and-writing-json-to-a-file-in-python \n",
    "* https://stackoverflow.com/questions/7370801/measure-time-elapsed-in-python?answertab=oldest#tab-top \n",
    "* https://stackoverflow.com/questions/28384588/twitter-api-get-tweets-with-specific-id \n",
    "* https://tweepy.readthedocs.io/en/v3.5.0/\n",
    "* https://tweepy.readthedocs.io/en/v3.2.0/api.html#API.get_status\n",
    "* https://wiki.python.org/moin/HandlingExceptions"
   ]
  },
  {
   "cell_type": "markdown",
   "metadata": {},
   "source": [
    "# ASSESS"
   ]
  },
  {
   "cell_type": "markdown",
   "metadata": {},
   "source": [
    "### Data Quality Issues\n",
    "**twitter_archive**\n",
    "\n",
    "* Some column names are not very specific to what they stand for\n",
    "* tweet_id is an integer\n",
    "* timestamp and retweeted_status_timestamp are type 'object'\n",
    "* source is with a and \\a tags surrounding the text\n",
    "* contains retweets and therefore duplicates (the ones left will have empty retweeted_status_id, retweeted_status_user_id and retweeted_status_timestamp columns and can therefore be dropped)\n",
    "* text column contains untruncated text instead of displayable text\n",
    "* the way the rating is displayed in general in not standardized and therfore difficult to analyze\n",
    "* dog names starting with lowercase characters (e.g. a, an, actually, by)\n",
    "\n",
    "**image_prediction**\n",
    "* Some column names are not very specific to what they stand for\n",
    "\n",
    "**status_df**\n",
    "* Some column names are not very specific to what they stand for\n",
    "* tweet_id is an integer\n",
    "\n",
    "### Tidiness Issues\n",
    "**twitter_archive**\n",
    "\n",
    "* Missing values in in_reply_to_status_id, in_reply_to_user_id, retweeted_status_id, retweeted_status_user_id, retweeted_status_timestamp, expanded_urls\n",
    "* Last 4 columns should be merged (doggo, floofer, pupper, puppo) and column should be called \"stage\"\n",
    "\n",
    "**image_prediction**\n",
    "\n",
    "* Could be merged with twitter_archive as data is talking about the same tweets, though there are different numbers of rows: tweet_id(s) of twitter_archive table are missing in image_predictions table\n",
    "\n",
    "**status_df**\n",
    "\n",
    "* Should be merged with twitter_archive as data is talking about the same tweets, though there are different numbers of rows: tweet_id(s) of twitter_archive table are missing in status_df table\n"
   ]
  },
  {
   "cell_type": "code",
   "execution_count": 16,
   "metadata": {},
   "outputs": [
    {
     "name": "stdout",
     "output_type": "stream",
     "text": [
      "<class 'pandas.core.frame.DataFrame'>\n",
      "RangeIndex: 2356 entries, 0 to 2355\n",
      "Data columns (total 17 columns):\n",
      "tweet_id                      2356 non-null int64\n",
      "in_reply_to_status_id         78 non-null float64\n",
      "in_reply_to_user_id           78 non-null float64\n",
      "timestamp                     2356 non-null object\n",
      "source                        2356 non-null object\n",
      "text                          2356 non-null object\n",
      "retweeted_status_id           181 non-null float64\n",
      "retweeted_status_user_id      181 non-null float64\n",
      "retweeted_status_timestamp    181 non-null object\n",
      "expanded_urls                 2297 non-null object\n",
      "rating_numerator              2356 non-null int64\n",
      "rating_denominator            2356 non-null int64\n",
      "name                          2356 non-null object\n",
      "doggo                         2356 non-null object\n",
      "floofer                       2356 non-null object\n",
      "pupper                        2356 non-null object\n",
      "puppo                         2356 non-null object\n",
      "dtypes: float64(4), int64(3), object(10)\n",
      "memory usage: 313.0+ KB\n"
     ]
    }
   ],
   "source": [
    "twitter_archive.info()"
   ]
  },
  {
   "cell_type": "code",
   "execution_count": 21,
   "metadata": {},
   "outputs": [
    {
     "data": {
      "text/html": [
       "<div>\n",
       "<style scoped>\n",
       "    .dataframe tbody tr th:only-of-type {\n",
       "        vertical-align: middle;\n",
       "    }\n",
       "\n",
       "    .dataframe tbody tr th {\n",
       "        vertical-align: top;\n",
       "    }\n",
       "\n",
       "    .dataframe thead th {\n",
       "        text-align: right;\n",
       "    }\n",
       "</style>\n",
       "<table border=\"1\" class=\"dataframe\">\n",
       "  <thead>\n",
       "    <tr style=\"text-align: right;\">\n",
       "      <th></th>\n",
       "      <th>tweet_id</th>\n",
       "      <th>in_reply_to_status_id</th>\n",
       "      <th>in_reply_to_user_id</th>\n",
       "      <th>timestamp</th>\n",
       "      <th>source</th>\n",
       "      <th>text</th>\n",
       "      <th>retweeted_status_id</th>\n",
       "      <th>retweeted_status_user_id</th>\n",
       "      <th>retweeted_status_timestamp</th>\n",
       "      <th>expanded_urls</th>\n",
       "      <th>rating_numerator</th>\n",
       "      <th>rating_denominator</th>\n",
       "      <th>name</th>\n",
       "      <th>doggo</th>\n",
       "      <th>floofer</th>\n",
       "      <th>pupper</th>\n",
       "      <th>puppo</th>\n",
       "    </tr>\n",
       "  </thead>\n",
       "  <tbody>\n",
       "    <tr>\n",
       "      <th>949</th>\n",
       "      <td>752309394570878976</td>\n",
       "      <td>NaN</td>\n",
       "      <td>NaN</td>\n",
       "      <td>2016-07-11 01:11:51 +0000</td>\n",
       "      <td>&lt;a href=\"http://twitter.com/download/iphone\" r...</td>\n",
       "      <td>RT @dog_rates: Everyone needs to watch this. 1...</td>\n",
       "      <td>6.753544e+17</td>\n",
       "      <td>4.196984e+09</td>\n",
       "      <td>2015-12-11 16:40:19 +0000</td>\n",
       "      <td>https://twitter.com/dog_rates/status/675354435...</td>\n",
       "      <td>13</td>\n",
       "      <td>10</td>\n",
       "      <td>None</td>\n",
       "      <td>None</td>\n",
       "      <td>None</td>\n",
       "      <td>None</td>\n",
       "      <td>None</td>\n",
       "    </tr>\n",
       "    <tr>\n",
       "      <th>810</th>\n",
       "      <td>771380798096281600</td>\n",
       "      <td>NaN</td>\n",
       "      <td>NaN</td>\n",
       "      <td>2016-09-01 16:14:48 +0000</td>\n",
       "      <td>&lt;a href=\"http://twitter.com/download/iphone\" r...</td>\n",
       "      <td>Meet Fizz. She thinks love is a social constru...</td>\n",
       "      <td>NaN</td>\n",
       "      <td>NaN</td>\n",
       "      <td>NaN</td>\n",
       "      <td>https://twitter.com/dog_rates/status/771380798...</td>\n",
       "      <td>11</td>\n",
       "      <td>10</td>\n",
       "      <td>Fizz</td>\n",
       "      <td>None</td>\n",
       "      <td>None</td>\n",
       "      <td>None</td>\n",
       "      <td>None</td>\n",
       "    </tr>\n",
       "    <tr>\n",
       "      <th>644</th>\n",
       "      <td>793180763617361921</td>\n",
       "      <td>NaN</td>\n",
       "      <td>NaN</td>\n",
       "      <td>2016-10-31 20:00:05 +0000</td>\n",
       "      <td>&lt;a href=\"http://twitter.com/download/iphone\" r...</td>\n",
       "      <td>This is Newt. He's a strawberry. 11/10 https:/...</td>\n",
       "      <td>NaN</td>\n",
       "      <td>NaN</td>\n",
       "      <td>NaN</td>\n",
       "      <td>https://twitter.com/dog_rates/status/793180763...</td>\n",
       "      <td>11</td>\n",
       "      <td>10</td>\n",
       "      <td>Newt</td>\n",
       "      <td>None</td>\n",
       "      <td>None</td>\n",
       "      <td>None</td>\n",
       "      <td>None</td>\n",
       "    </tr>\n",
       "  </tbody>\n",
       "</table>\n",
       "</div>"
      ],
      "text/plain": [
       "               tweet_id  in_reply_to_status_id  in_reply_to_user_id  \\\n",
       "949  752309394570878976                    NaN                  NaN   \n",
       "810  771380798096281600                    NaN                  NaN   \n",
       "644  793180763617361921                    NaN                  NaN   \n",
       "\n",
       "                     timestamp  \\\n",
       "949  2016-07-11 01:11:51 +0000   \n",
       "810  2016-09-01 16:14:48 +0000   \n",
       "644  2016-10-31 20:00:05 +0000   \n",
       "\n",
       "                                                source  \\\n",
       "949  <a href=\"http://twitter.com/download/iphone\" r...   \n",
       "810  <a href=\"http://twitter.com/download/iphone\" r...   \n",
       "644  <a href=\"http://twitter.com/download/iphone\" r...   \n",
       "\n",
       "                                                  text  retweeted_status_id  \\\n",
       "949  RT @dog_rates: Everyone needs to watch this. 1...         6.753544e+17   \n",
       "810  Meet Fizz. She thinks love is a social constru...                  NaN   \n",
       "644  This is Newt. He's a strawberry. 11/10 https:/...                  NaN   \n",
       "\n",
       "     retweeted_status_user_id retweeted_status_timestamp  \\\n",
       "949              4.196984e+09  2015-12-11 16:40:19 +0000   \n",
       "810                       NaN                        NaN   \n",
       "644                       NaN                        NaN   \n",
       "\n",
       "                                         expanded_urls  rating_numerator  \\\n",
       "949  https://twitter.com/dog_rates/status/675354435...                13   \n",
       "810  https://twitter.com/dog_rates/status/771380798...                11   \n",
       "644  https://twitter.com/dog_rates/status/793180763...                11   \n",
       "\n",
       "     rating_denominator  name doggo floofer pupper puppo  \n",
       "949                  10  None  None    None   None  None  \n",
       "810                  10  Fizz  None    None   None  None  \n",
       "644                  10  Newt  None    None   None  None  "
      ]
     },
     "execution_count": 21,
     "metadata": {},
     "output_type": "execute_result"
    }
   ],
   "source": [
    "twitter_archive.sample(3)"
   ]
  },
  {
   "cell_type": "code",
   "execution_count": 18,
   "metadata": {},
   "outputs": [
    {
     "data": {
      "text/plain": [
       "RT @frasercampbell_: oh my... what's that... beautiful scarf around your neck... 14/10 a h*ckin good dog in a h*ckin good game @GoodDogsGam…                             1\n",
       "This is one of the most inspirational stories I've ever come across. I have no words. 14/10 for both doggo and owner https://t.co/I5ld3eKD5k                             1\n",
       "@Marc_IRL pixelated af 12/10                                                                                                                                             1\n",
       "HE WAS JUST A LIL SLEEPY FROM BEING SUCH A GOOD DOGGI ALL THE TIME MISTAKES HAPPEN 13/10\\nhttps://t.co/G2ms0A5jWM                                                        1\n",
       "Say hello to Petrick. He's an Altostratus Floofer. Just had a run in with a trash bag. Groovy checkered floor. 11/10 https://t.co/rwW7z1JAOF                             1\n",
       "Say hello to Mauve and Murphy. They're rather h*ckin filthy. Preferred nap over bath. Both 12/10 https://t.co/4UwCTW3lXG                                                 1\n",
       "This is Mister. He only wears the most fashionable af headwear. 11/10 h*ckin stylish https://t.co/BXJFKOVnJm                                                             1\n",
       "This is Duke. He sneaks into the fridge sometimes. It's his safe place. 11/10 would give little jacket if necessary https://t.co/Fd5WFDTMH4                              1\n",
       "This is Sobe. She's a h*ckin happy doggo. Only one leg tho. Must have good balance. 13/10 would smile back https://t.co/OiH8PaOxB1                                       1\n",
       "This is Suki. She was born with a blurry tail (unfortunate). Next level tongue tho. 11/10 nifty hardwood https://t.co/05S8oYztgb                                         1\n",
       "This is Chelsea. She forgot how to dog. 11/10 get it together pupper https://t.co/nBJ5RE4yHb                                                                             1\n",
       "RT @dog_rates: This is Butter. She can have whatever she wants forever. 12/10 would hug softly https://t.co/x5gXRS1abq                                                   1\n",
       "Great picture here. Dog on the right panicked &amp; forgot about his tongue. Middle green dog must've fainted. All 10/10 https://t.co/31npKUAox0                         1\n",
       "This poor pupper has been stuck in a vortex since last week. Please keep her in your thoughts. 10/10 https://t.co/7ODQWHwYDx                                             1\n",
       "This is Sam. He's trying to escape the inordinate monotony of conforming to everyday status quo. 10/10 https://t.co/PXnCdz8qzK                                           1\n",
       "This is Jareld. Jareld rules these waters. Ladies and Gentleman... 13/10. This dog is utterly fucking spectacular. https://t.co/L6qAEV5PAd                               1\n",
       "Meet Hank and Sully. Hank is very proud of the pumpkin they found and Sully doesn't give a shit. 11/10 and 8/10 https://t.co/cwoP1ftbrj                                  1\n",
       "I know this is a tad late but here's a wonderful Valentine's Day pupper 12/10 https://t.co/hTE2PEwGvi                                                                    1\n",
       "Say hello to Alice. I'm told she enjoys car rides and smells good. 12/10 would give her everything she could ever want https://t.co/yT4vw8y77x                           1\n",
       "This is Burt. He thinks your thesis statement is comically underdeveloped. 12/10 intellectual af https://t.co/jH6EN9cEn6                                                 1\n",
       "This is Robin. She's desperately trying to do me a frighten, but her tongue drastically decreases her spook value. Still 11/10 great effort https://t.co/sxMrsOZ8zb      1\n",
       "holy shit 12/10 https://t.co/p6O8X93bTQ                                                                                                                                  1\n",
       "This is Oliver. You're witnessing one of his many brutal attacks. Seems to be playing with his victim. 13/10 fr*ckin frightening #BarkWeek https://t.co/WpHvrQedPb       1\n",
       "Awesome dog here. Not sure where it is tho. Spectacular camouflage. Enjoys leaves. Not very soft. 5/10 still petable https://t.co/rOTOteKx4q                             1\n",
       "This is Penny. She's both pupset and fired pup. Not pleased w your barbaric attempts at cleanliness. 12/10 would enjoy more shampoo options https://t.co/OYdDlfOGXP      1\n",
       "This is Sophie. She just saw a spider. 10/10 don't just stand there Sophie https://t.co/VagYftZccT                                                                       1\n",
       "This is Sansa. She's gotten too big for her chair. Not so smol anymore. 11/10 once a pupper, always a pupper https://t.co/IpAoztle2s                                     1\n",
       "I can't do better than he did. 10/10 https://t.co/fM0KXns7Or                                                                                                             1\n",
       "This is Brandi and Harley. They are practicing their caroling for later. Both 12/10 festive af https://t.co/AbBDuGZUpp                                                   1\n",
       "@roushfenway These are good dogs but 17/10 is an emotional impulse rating. More like 13/10s                                                                              1\n",
       "                                                                                                                                                                        ..\n",
       "Please don't send in photos without dogs in them. We're not @porch_rates. Insubordinate and churlish. Pretty good porch tho 11/10 https://t.co/HauE8M3Bu4                1\n",
       "Say hello to Moofasa. He must be a powerful dog. Fenced in for your protection. Just got his ear pierced. 6/10 https://t.co/w6fRfQ3RXD                                   1\n",
       "This is Harnold. He accidentally opened the front facing camera. 10/10 get it together Harnold https://t.co/S6JHaSMtln                                                   1\n",
       "This is Yogi. He's 98% floof. Snuggable af. 12/10 https://t.co/opoXKxmfFm                                                                                                1\n",
       "Meet Chester (bottom) &amp; Harold (top). They are different dogs not only in appearance, but in personality as well. Both 12/10 symbiotic af https://t.co/8ZOZS2FSJe    1\n",
       "Please stop sending in saber-toothed tigers. This is getting ridiculous. We only rate dogs.\\n...8/10 https://t.co/iAeQNueou8                                             1\n",
       "This is a Butternut Cumberfloof. It's not windy they just look like that. 11/10 back at it again with the red socks https://t.co/hMjzhdUHaW                              1\n",
       "\"Dammit hooman I'm jus trynna lik the fler\" 11/10 https://t.co/eRZRI8OTj7                                                                                                1\n",
       "Exotic handheld dog here. Appears unathletic. Feet look deadly. Can be thrown a great distance. 5/10 might pet idk https://t.co/Avq4awulqk                               1\n",
       "This is Nico. His selfie game is strong af. Excellent use of a sneaky tongue slip. 10/10 star material https://t.co/1OBdJkMOFx                                           1\n",
       "Another spooky pupper here. Most definitely floating. No legs. Probably knows some dark magic. 10/10 very spooked https://t.co/JK8MByRzgj                                1\n",
       "This is Dale. He's a real spookster. Did me quite the frighten. 11/10 not too spooky to pet tho https://t.co/L8BWDD4oBX                                                  1\n",
       "This is Ginger. She's having a ruff Monday. Too many pupper things going on. H*ckin exhausting. 12/10 would snug passionately https://t.co/j211oCDRs6                    1\n",
       "Happy New Year from your fav holiday squad! 🎉 12/10 for all\\n\\nHere's to a pupper-filled year 🍻🐶🐶🐶 https://t.co/ZSdEj59FGf                                               1\n",
       "This is Bubbles. He kinda resembles a fish. Always makes eye contact with u no matter what. Sneaky tongue slip. 5/10 https://t.co/Nrhvc5tLFT                             1\n",
       "This is Bruce. I really want to hear the joke he was told. 10/10 for chuckle pup https://t.co/ErPLjjJOKc                                                                 1\n",
       "This is Buddy. He ran into a glass door once. Now he's h*ckin skeptical. 13/10 empowering af (vid by Brittany Gaunt) https://t.co/q2BgNIi3OA                             1\n",
       "Stop sending in lobsters. This is the final warning. We only rate dogs. Thank you... 9/10 https://t.co/B9ZXXKJYNx                                                        1\n",
       "When someone yells \"cops!\" at a party and you gotta get your drunk friend out of there. 10/10 https://t.co/4rMZi5Ca1k                                                    1\n",
       "Meet Benny. He likes being adorable and making fun of you while you're on the trampoline. 12/10 let's help him out\\n\\nhttps://t.co/aVMjBqAy1x https://t.co/7gx2LksT3U    1\n",
       "\"I wish we were dogs\" 14/10 for @BadlandsNPS https://t.co/50qq2DItPW                                                                                                     1\n",
       "This is Alfie. He's that one hypocritical gym teacher who made you run laps. Great posture. Cool bench. 6/10 https://t.co/GCJzm3YsfX                                     1\n",
       "This is a taco. We only rate dogs. Please only send in dogs. Dogs are what we rate. Not tacos. Thank you... 10/10 https://t.co/cxl6xGY8B9                                1\n",
       "This is Hermione. Her face is as old as time. Appears fluffy af tho. 11/10 pretty damn majestic https://t.co/0b41Q4DKCA                                                  1\n",
       "This dog is being demoted to a 9/10 for not wearing a helmet while riding. Gotta stay safe out there. Thank you                                                          1\n",
       "This is Stanley. He has his first swim lesson today. Doggle straps adjusted. Ready to go. 13/10 Phelps is nervous (IG: stanleythe_corgi) https://t.co/Nx52PGwH94         1\n",
       "HAPPY V-DAY FROM YOUR FAV PUPPER SQUAD 13/10 for all https://t.co/7u6VnZ1UFe                                                                                             1\n",
       "This is Dido. She's playing the lead role in \"Pupper Stops to Catch Snow Before Resuming Shadow Box with Dried Apple.\" 13/10 (IG: didodoggo) https://t.co/m7isZrOBX7     1\n",
       "\"You got any games on your phone\" 7/10 for invasive brown Dalmatian pupper https://t.co/yzGR9xjE9Q                                                                       1\n",
       "This is Mabel. She's super h*ckin smol. Portable af. Comes with the smol shoe. 12/10 would keep in frocket https://t.co/GGJvxYt3xK                                       1\n",
       "Name: text, Length: 2356, dtype: int64"
      ]
     },
     "execution_count": 18,
     "metadata": {},
     "output_type": "execute_result"
    }
   ],
   "source": [
    "twitter_archive['text'].value_counts()"
   ]
  },
  {
   "cell_type": "code",
   "execution_count": 19,
   "metadata": {},
   "outputs": [
    {
     "data": {
      "text/plain": [
       "12      558\n",
       "11      464\n",
       "10      461\n",
       "13      351\n",
       "9       158\n",
       "8       102\n",
       "7        55\n",
       "14       54\n",
       "5        37\n",
       "6        32\n",
       "3        19\n",
       "4        17\n",
       "1         9\n",
       "2         9\n",
       "420       2\n",
       "0         2\n",
       "15        2\n",
       "75        2\n",
       "80        1\n",
       "20        1\n",
       "24        1\n",
       "26        1\n",
       "44        1\n",
       "50        1\n",
       "60        1\n",
       "165       1\n",
       "84        1\n",
       "88        1\n",
       "144       1\n",
       "182       1\n",
       "143       1\n",
       "666       1\n",
       "960       1\n",
       "1776      1\n",
       "17        1\n",
       "27        1\n",
       "45        1\n",
       "99        1\n",
       "121       1\n",
       "204       1\n",
       "Name: rating_numerator, dtype: int64"
      ]
     },
     "execution_count": 19,
     "metadata": {},
     "output_type": "execute_result"
    }
   ],
   "source": [
    "twitter_archive['rating_numerator'].value_counts()"
   ]
  },
  {
   "cell_type": "code",
   "execution_count": 20,
   "metadata": {},
   "outputs": [
    {
     "data": {
      "text/plain": [
       "10     2333\n",
       "11        3\n",
       "50        3\n",
       "80        2\n",
       "20        2\n",
       "2         1\n",
       "16        1\n",
       "40        1\n",
       "70        1\n",
       "15        1\n",
       "90        1\n",
       "110       1\n",
       "120       1\n",
       "130       1\n",
       "150       1\n",
       "170       1\n",
       "7         1\n",
       "0         1\n",
       "Name: rating_denominator, dtype: int64"
      ]
     },
     "execution_count": 20,
     "metadata": {},
     "output_type": "execute_result"
    }
   ],
   "source": [
    "twitter_archive['rating_denominator'].value_counts()"
   ]
  },
  {
   "cell_type": "code",
   "execution_count": 22,
   "metadata": {},
   "outputs": [
    {
     "data": {
      "text/plain": [
       "None        745\n",
       "a            55\n",
       "Charlie      12\n",
       "Lucy         11\n",
       "Oliver       11\n",
       "Cooper       11\n",
       "Lola         10\n",
       "Penny        10\n",
       "Tucker       10\n",
       "Bo            9\n",
       "Winston       9\n",
       "the           8\n",
       "Sadie         8\n",
       "Toby          7\n",
       "an            7\n",
       "Buddy         7\n",
       "Bailey        7\n",
       "Daisy         7\n",
       "Jack          6\n",
       "Oscar         6\n",
       "Scout         6\n",
       "Milo          6\n",
       "Dave          6\n",
       "Leo           6\n",
       "Koda          6\n",
       "Rusty         6\n",
       "Jax           6\n",
       "Bella         6\n",
       "Stanley       6\n",
       "Louis         5\n",
       "           ... \n",
       "Kaia          1\n",
       "Kuyu          1\n",
       "Benny         1\n",
       "Ole           1\n",
       "Alf           1\n",
       "Bertson       1\n",
       "Einstein      1\n",
       "Jeffri        1\n",
       "Lulu          1\n",
       "Skittle       1\n",
       "Miguel        1\n",
       "Mimosa        1\n",
       "Ralphson      1\n",
       "Darrel        1\n",
       "Fillup        1\n",
       "Koko          1\n",
       "Cheesy        1\n",
       "Raphael       1\n",
       "Antony        1\n",
       "Aja           1\n",
       "Willie        1\n",
       "Billy         1\n",
       "Tobi          1\n",
       "Eevee         1\n",
       "Emmie         1\n",
       "Julius        1\n",
       "Finnegus      1\n",
       "Iroh          1\n",
       "Buddah        1\n",
       "Edgar         1\n",
       "Name: name, Length: 957, dtype: int64"
      ]
     },
     "execution_count": 22,
     "metadata": {},
     "output_type": "execute_result"
    }
   ],
   "source": [
    "twitter_archive['name'].value_counts()"
   ]
  },
  {
   "cell_type": "code",
   "execution_count": 23,
   "metadata": {},
   "outputs": [
    {
     "name": "stdout",
     "output_type": "stream",
     "text": [
      "<class 'pandas.core.frame.DataFrame'>\n",
      "RangeIndex: 2075 entries, 0 to 2074\n",
      "Data columns (total 12 columns):\n",
      "tweet_id    2075 non-null int64\n",
      "jpg_url     2075 non-null object\n",
      "img_num     2075 non-null int64\n",
      "p1          2075 non-null object\n",
      "p1_conf     2075 non-null float64\n",
      "p1_dog      2075 non-null bool\n",
      "p2          2075 non-null object\n",
      "p2_conf     2075 non-null float64\n",
      "p2_dog      2075 non-null bool\n",
      "p3          2075 non-null object\n",
      "p3_conf     2075 non-null float64\n",
      "p3_dog      2075 non-null bool\n",
      "dtypes: bool(3), float64(3), int64(2), object(4)\n",
      "memory usage: 152.1+ KB\n"
     ]
    }
   ],
   "source": [
    "image_prediction.info()"
   ]
  },
  {
   "cell_type": "code",
   "execution_count": 24,
   "metadata": {},
   "outputs": [
    {
     "data": {
      "text/html": [
       "<div>\n",
       "<style scoped>\n",
       "    .dataframe tbody tr th:only-of-type {\n",
       "        vertical-align: middle;\n",
       "    }\n",
       "\n",
       "    .dataframe tbody tr th {\n",
       "        vertical-align: top;\n",
       "    }\n",
       "\n",
       "    .dataframe thead th {\n",
       "        text-align: right;\n",
       "    }\n",
       "</style>\n",
       "<table border=\"1\" class=\"dataframe\">\n",
       "  <thead>\n",
       "    <tr style=\"text-align: right;\">\n",
       "      <th></th>\n",
       "      <th>tweet_id</th>\n",
       "      <th>jpg_url</th>\n",
       "      <th>img_num</th>\n",
       "      <th>p1</th>\n",
       "      <th>p1_conf</th>\n",
       "      <th>p1_dog</th>\n",
       "      <th>p2</th>\n",
       "      <th>p2_conf</th>\n",
       "      <th>p2_dog</th>\n",
       "      <th>p3</th>\n",
       "      <th>p3_conf</th>\n",
       "      <th>p3_dog</th>\n",
       "    </tr>\n",
       "  </thead>\n",
       "  <tbody>\n",
       "    <tr>\n",
       "      <th>1464</th>\n",
       "      <td>778408200802557953</td>\n",
       "      <td>https://pbs.twimg.com/media/Cs12ICuWAAECNRy.jpg</td>\n",
       "      <td>3</td>\n",
       "      <td>Pembroke</td>\n",
       "      <td>0.848362</td>\n",
       "      <td>True</td>\n",
       "      <td>Cardigan</td>\n",
       "      <td>0.108124</td>\n",
       "      <td>True</td>\n",
       "      <td>beagle</td>\n",
       "      <td>0.011942</td>\n",
       "      <td>True</td>\n",
       "    </tr>\n",
       "    <tr>\n",
       "      <th>932</th>\n",
       "      <td>703268521220972544</td>\n",
       "      <td>https://pbs.twimg.com/media/CcKC-5LW4AAK-nb.jpg</td>\n",
       "      <td>1</td>\n",
       "      <td>wool</td>\n",
       "      <td>0.525434</td>\n",
       "      <td>False</td>\n",
       "      <td>fur_coat</td>\n",
       "      <td>0.236391</td>\n",
       "      <td>False</td>\n",
       "      <td>kuvasz</td>\n",
       "      <td>0.038243</td>\n",
       "      <td>True</td>\n",
       "    </tr>\n",
       "    <tr>\n",
       "      <th>179</th>\n",
       "      <td>669324657376567296</td>\n",
       "      <td>https://pbs.twimg.com/media/CUnrN7vUcAAfGvN.jpg</td>\n",
       "      <td>1</td>\n",
       "      <td>seashore</td>\n",
       "      <td>0.201659</td>\n",
       "      <td>False</td>\n",
       "      <td>Cardigan</td>\n",
       "      <td>0.131544</td>\n",
       "      <td>True</td>\n",
       "      <td>sandbar</td>\n",
       "      <td>0.101430</td>\n",
       "      <td>False</td>\n",
       "    </tr>\n",
       "  </tbody>\n",
       "</table>\n",
       "</div>"
      ],
      "text/plain": [
       "                tweet_id                                          jpg_url  \\\n",
       "1464  778408200802557953  https://pbs.twimg.com/media/Cs12ICuWAAECNRy.jpg   \n",
       "932   703268521220972544  https://pbs.twimg.com/media/CcKC-5LW4AAK-nb.jpg   \n",
       "179   669324657376567296  https://pbs.twimg.com/media/CUnrN7vUcAAfGvN.jpg   \n",
       "\n",
       "      img_num        p1   p1_conf  p1_dog        p2   p2_conf  p2_dog  \\\n",
       "1464        3  Pembroke  0.848362    True  Cardigan  0.108124    True   \n",
       "932         1      wool  0.525434   False  fur_coat  0.236391   False   \n",
       "179         1  seashore  0.201659   False  Cardigan  0.131544    True   \n",
       "\n",
       "           p3   p3_conf  p3_dog  \n",
       "1464   beagle  0.011942    True  \n",
       "932    kuvasz  0.038243    True  \n",
       "179   sandbar  0.101430   False  "
      ]
     },
     "execution_count": 24,
     "metadata": {},
     "output_type": "execute_result"
    }
   ],
   "source": [
    "image_prediction.sample(3)"
   ]
  },
  {
   "cell_type": "code",
   "execution_count": 25,
   "metadata": {},
   "outputs": [
    {
     "name": "stdout",
     "output_type": "stream",
     "text": [
      "<class 'pandas.core.frame.DataFrame'>\n",
      "RangeIndex: 2339 entries, 0 to 2338\n",
      "Data columns (total 3 columns):\n",
      "tweet_id          2339 non-null int64\n",
      "favorite_count    2339 non-null int64\n",
      "retweet_count     2339 non-null int64\n",
      "dtypes: int64(3)\n",
      "memory usage: 54.9 KB\n"
     ]
    }
   ],
   "source": [
    "status_df.info()"
   ]
  },
  {
   "cell_type": "code",
   "execution_count": 26,
   "metadata": {},
   "outputs": [
    {
     "data": {
      "text/html": [
       "<div>\n",
       "<style scoped>\n",
       "    .dataframe tbody tr th:only-of-type {\n",
       "        vertical-align: middle;\n",
       "    }\n",
       "\n",
       "    .dataframe tbody tr th {\n",
       "        vertical-align: top;\n",
       "    }\n",
       "\n",
       "    .dataframe thead th {\n",
       "        text-align: right;\n",
       "    }\n",
       "</style>\n",
       "<table border=\"1\" class=\"dataframe\">\n",
       "  <thead>\n",
       "    <tr style=\"text-align: right;\">\n",
       "      <th></th>\n",
       "      <th>tweet_id</th>\n",
       "      <th>favorite_count</th>\n",
       "      <th>retweet_count</th>\n",
       "    </tr>\n",
       "  </thead>\n",
       "  <tbody>\n",
       "    <tr>\n",
       "      <th>828</th>\n",
       "      <td>766714921925144576</td>\n",
       "      <td>2748</td>\n",
       "      <td>417</td>\n",
       "    </tr>\n",
       "    <tr>\n",
       "      <th>424</th>\n",
       "      <td>820446719150292993</td>\n",
       "      <td>0</td>\n",
       "      <td>2792</td>\n",
       "    </tr>\n",
       "    <tr>\n",
       "      <th>1538</th>\n",
       "      <td>688898160958271489</td>\n",
       "      <td>2194</td>\n",
       "      <td>838</td>\n",
       "    </tr>\n",
       "  </tbody>\n",
       "</table>\n",
       "</div>"
      ],
      "text/plain": [
       "                tweet_id  favorite_count  retweet_count\n",
       "828   766714921925144576            2748            417\n",
       "424   820446719150292993               0           2792\n",
       "1538  688898160958271489            2194            838"
      ]
     },
     "execution_count": 26,
     "metadata": {},
     "output_type": "execute_result"
    }
   ],
   "source": [
    "status_df.sample(3)"
   ]
  },
  {
   "cell_type": "markdown",
   "metadata": {},
   "source": [
    "# CLEAN"
   ]
  },
  {
   "cell_type": "markdown",
   "metadata": {},
   "source": [
    "### Data Quality Issues\n",
    "**twitter_archive**\n",
    "\n",
    "* Some column names are not very specific to what they stand for-DONE\n",
    "* tweet_id is an integer -DONE\n",
    "* timestamp and retweeted_status_timestamp are type 'object'-DONE\n",
    "* source is with a and \\a tags surrounding the text - COLUMN DROPPED\n",
    "* contains retweets and therefore duplicates (the ones left will have empty retweeted_status_id, retweeted_status_user_id and retweeted_status_timestamp columns and can therefore be dropped)-DONE\n",
    "* text column contains untruncated text instead of displayable text -DONE\n",
    "* the way the rating is displayed in general in not standardized and therfore difficult to analyze-DONE\n",
    "* dog names starting with lowercase characters (e.g. a, an, actually, by)-DONE\n",
    "\n",
    "**image_prediction**\n",
    "* Some column names are not very specific to what they stand for -DONE\n",
    "\n",
    "**status_df**\n",
    "* Some column names are not very specific to what they stand for- DONE\n",
    "* tweet_id is an integer- DONE\n",
    "\n",
    "**-> Solutions**\n",
    "\n",
    "* Remove retweets (Rows where 'retweeted_status_id' is a NaN will be kept (if it has a value it will be removed), then the 'retweeted_status_id', 'retweeted_status_user_id' and 'retweeted_status_timestamp' columns will be removed.\n",
    "* Change tweet_id to a string/object\n",
    "* Convert 'timestamp' to a datetime object ('retweeted_status_timestamp' was deleted)\n",
    "* Replace all inaccurate names with NaNs\n",
    "* Calulate the value of the numerator divided by the denominator and save this in a new column called 'rating'\n",
    "* Drop undesired columns and change column name\n",
    "\n",
    "### Tidiness Issues\n",
    "**twitter_archive**\n",
    "\n",
    "* Missing values in in_reply_to_status_id, in_reply_to_user_id, retweeted_status_id, retweeted_status_user_id, retweeted_status_timestamp, expanded_urls -DONE\n",
    "* Last 4 columns should be merged (doggo, floofer, pupper, puppo) and column should be called \"stage\"-DONE\n",
    "\n",
    "**image_prediction**\n",
    "\n",
    "* Could be merged with twitter_archive as data is talking about the same tweets, though there are different numbers of rows: tweet_id(s) of twitter_archive table are missing in image_predictions table -DONE\n",
    "\n",
    "**status_df**\n",
    "\n",
    "* Should be merged with twitter_archive as data is talking about the same tweets, though there are different numbers of rows: tweet_id(s) of twitter_archive table are missing in status_df table -DONE\n",
    "\n",
    "**-> Solutions**\n",
    "\n",
    "* Merge all dataframes on 'tweet_id'\n",
    "* One column for dog \"stage\""
   ]
  },
  {
   "cell_type": "code",
   "execution_count": 27,
   "metadata": {},
   "outputs": [],
   "source": [
    "# Make copies of the dataframes for cleaning\n",
    "\n",
    "twitter_archive_clean = twitter_archive.copy()\n",
    "image_prediction_clean = image_prediction.copy()\n",
    "status_df = status_df.copy()"
   ]
  },
  {
   "cell_type": "markdown",
   "metadata": {},
   "source": [
    "### Tidiness Issue - Merge all dataframes"
   ]
  },
  {
   "cell_type": "code",
   "execution_count": 32,
   "metadata": {},
   "outputs": [],
   "source": [
    "# Merge the twitter_archive, image_prediction, and status_df on 'tweet_id'\n",
    "\n",
    "from functools import reduce\n",
    "\n",
    "dfs = [twitter_archive_clean, image_prediction_clean, status_df]\n",
    "twitter = reduce(lambda left,right: pd.merge(left,right,on='tweet_id'), dfs)"
   ]
  },
  {
   "cell_type": "code",
   "execution_count": 36,
   "metadata": {},
   "outputs": [
    {
     "data": {
      "text/html": [
       "<div>\n",
       "<style scoped>\n",
       "    .dataframe tbody tr th:only-of-type {\n",
       "        vertical-align: middle;\n",
       "    }\n",
       "\n",
       "    .dataframe tbody tr th {\n",
       "        vertical-align: top;\n",
       "    }\n",
       "\n",
       "    .dataframe thead th {\n",
       "        text-align: right;\n",
       "    }\n",
       "</style>\n",
       "<table border=\"1\" class=\"dataframe\">\n",
       "  <thead>\n",
       "    <tr style=\"text-align: right;\">\n",
       "      <th></th>\n",
       "      <th>tweet_id</th>\n",
       "      <th>in_reply_to_status_id</th>\n",
       "      <th>in_reply_to_user_id</th>\n",
       "      <th>timestamp</th>\n",
       "      <th>source</th>\n",
       "      <th>text</th>\n",
       "      <th>retweeted_status_id</th>\n",
       "      <th>retweeted_status_user_id</th>\n",
       "      <th>retweeted_status_timestamp</th>\n",
       "      <th>expanded_urls</th>\n",
       "      <th>...</th>\n",
       "      <th>p1_conf</th>\n",
       "      <th>p1_dog</th>\n",
       "      <th>p2</th>\n",
       "      <th>p2_conf</th>\n",
       "      <th>p2_dog</th>\n",
       "      <th>p3</th>\n",
       "      <th>p3_conf</th>\n",
       "      <th>p3_dog</th>\n",
       "      <th>favorite_count</th>\n",
       "      <th>retweet_count</th>\n",
       "    </tr>\n",
       "  </thead>\n",
       "  <tbody>\n",
       "    <tr>\n",
       "      <th>0</th>\n",
       "      <td>892420643555336193</td>\n",
       "      <td>NaN</td>\n",
       "      <td>NaN</td>\n",
       "      <td>2017-08-01 16:23:56 +0000</td>\n",
       "      <td>&lt;a href=\"http://twitter.com/download/iphone\" r...</td>\n",
       "      <td>This is Phineas. He's a mystical boy. Only eve...</td>\n",
       "      <td>NaN</td>\n",
       "      <td>NaN</td>\n",
       "      <td>NaN</td>\n",
       "      <td>https://twitter.com/dog_rates/status/892420643...</td>\n",
       "      <td>...</td>\n",
       "      <td>0.097049</td>\n",
       "      <td>False</td>\n",
       "      <td>bagel</td>\n",
       "      <td>0.085851</td>\n",
       "      <td>False</td>\n",
       "      <td>banana</td>\n",
       "      <td>0.076110</td>\n",
       "      <td>False</td>\n",
       "      <td>37805</td>\n",
       "      <td>8244</td>\n",
       "    </tr>\n",
       "    <tr>\n",
       "      <th>1</th>\n",
       "      <td>892177421306343426</td>\n",
       "      <td>NaN</td>\n",
       "      <td>NaN</td>\n",
       "      <td>2017-08-01 00:17:27 +0000</td>\n",
       "      <td>&lt;a href=\"http://twitter.com/download/iphone\" r...</td>\n",
       "      <td>This is Tilly. She's just checking pup on you....</td>\n",
       "      <td>NaN</td>\n",
       "      <td>NaN</td>\n",
       "      <td>NaN</td>\n",
       "      <td>https://twitter.com/dog_rates/status/892177421...</td>\n",
       "      <td>...</td>\n",
       "      <td>0.323581</td>\n",
       "      <td>True</td>\n",
       "      <td>Pekinese</td>\n",
       "      <td>0.090647</td>\n",
       "      <td>True</td>\n",
       "      <td>papillon</td>\n",
       "      <td>0.068957</td>\n",
       "      <td>True</td>\n",
       "      <td>32485</td>\n",
       "      <td>6091</td>\n",
       "    </tr>\n",
       "  </tbody>\n",
       "</table>\n",
       "<p>2 rows × 30 columns</p>\n",
       "</div>"
      ],
      "text/plain": [
       "             tweet_id  in_reply_to_status_id  in_reply_to_user_id  \\\n",
       "0  892420643555336193                    NaN                  NaN   \n",
       "1  892177421306343426                    NaN                  NaN   \n",
       "\n",
       "                   timestamp  \\\n",
       "0  2017-08-01 16:23:56 +0000   \n",
       "1  2017-08-01 00:17:27 +0000   \n",
       "\n",
       "                                              source  \\\n",
       "0  <a href=\"http://twitter.com/download/iphone\" r...   \n",
       "1  <a href=\"http://twitter.com/download/iphone\" r...   \n",
       "\n",
       "                                                text  retweeted_status_id  \\\n",
       "0  This is Phineas. He's a mystical boy. Only eve...                  NaN   \n",
       "1  This is Tilly. She's just checking pup on you....                  NaN   \n",
       "\n",
       "   retweeted_status_user_id retweeted_status_timestamp  \\\n",
       "0                       NaN                        NaN   \n",
       "1                       NaN                        NaN   \n",
       "\n",
       "                                       expanded_urls      ...        p1_conf  \\\n",
       "0  https://twitter.com/dog_rates/status/892420643...      ...       0.097049   \n",
       "1  https://twitter.com/dog_rates/status/892177421...      ...       0.323581   \n",
       "\n",
       "   p1_dog        p2   p2_conf p2_dog        p3   p3_conf p3_dog  \\\n",
       "0   False     bagel  0.085851  False    banana  0.076110  False   \n",
       "1    True  Pekinese  0.090647   True  papillon  0.068957   True   \n",
       "\n",
       "   favorite_count retweet_count  \n",
       "0           37805          8244  \n",
       "1           32485          6091  \n",
       "\n",
       "[2 rows x 30 columns]"
      ]
     },
     "execution_count": 36,
     "metadata": {},
     "output_type": "execute_result"
    }
   ],
   "source": [
    "twitter.head(2)"
   ]
  },
  {
   "cell_type": "code",
   "execution_count": 37,
   "metadata": {},
   "outputs": [
    {
     "name": "stdout",
     "output_type": "stream",
     "text": [
      "<class 'pandas.core.frame.DataFrame'>\n",
      "Int64Index: 2066 entries, 0 to 2065\n",
      "Data columns (total 30 columns):\n",
      "tweet_id                      2066 non-null int64\n",
      "in_reply_to_status_id         23 non-null float64\n",
      "in_reply_to_user_id           23 non-null float64\n",
      "timestamp                     2066 non-null object\n",
      "source                        2066 non-null object\n",
      "text                          2066 non-null object\n",
      "retweeted_status_id           75 non-null float64\n",
      "retweeted_status_user_id      75 non-null float64\n",
      "retweeted_status_timestamp    75 non-null object\n",
      "expanded_urls                 2066 non-null object\n",
      "rating_numerator              2066 non-null int64\n",
      "rating_denominator            2066 non-null int64\n",
      "name                          2066 non-null object\n",
      "doggo                         2066 non-null object\n",
      "floofer                       2066 non-null object\n",
      "pupper                        2066 non-null object\n",
      "puppo                         2066 non-null object\n",
      "jpg_url                       2066 non-null object\n",
      "img_num                       2066 non-null int64\n",
      "p1                            2066 non-null object\n",
      "p1_conf                       2066 non-null float64\n",
      "p1_dog                        2066 non-null bool\n",
      "p2                            2066 non-null object\n",
      "p2_conf                       2066 non-null float64\n",
      "p2_dog                        2066 non-null bool\n",
      "p3                            2066 non-null object\n",
      "p3_conf                       2066 non-null float64\n",
      "p3_dog                        2066 non-null bool\n",
      "favorite_count                2066 non-null int64\n",
      "retweet_count                 2066 non-null int64\n",
      "dtypes: bool(3), float64(7), int64(6), object(14)\n",
      "memory usage: 458.0+ KB\n"
     ]
    }
   ],
   "source": [
    "twitter.info()"
   ]
  },
  {
   "cell_type": "markdown",
   "metadata": {},
   "source": [
    "### Tidiness issue 2 - One column for dog \"stage\""
   ]
  },
  {
   "cell_type": "code",
   "execution_count": 38,
   "metadata": {},
   "outputs": [],
   "source": [
    "# Extract dog stages from 'text' column into new 'stage' column \n",
    "twitter['stage'] = twitter['text'].str.extract('(doggo|floofer|pupper|puppo)')"
   ]
  },
  {
   "cell_type": "code",
   "execution_count": 41,
   "metadata": {},
   "outputs": [
    {
     "data": {
      "text/html": [
       "<div>\n",
       "<style scoped>\n",
       "    .dataframe tbody tr th:only-of-type {\n",
       "        vertical-align: middle;\n",
       "    }\n",
       "\n",
       "    .dataframe tbody tr th {\n",
       "        vertical-align: top;\n",
       "    }\n",
       "\n",
       "    .dataframe thead th {\n",
       "        text-align: right;\n",
       "    }\n",
       "</style>\n",
       "<table border=\"1\" class=\"dataframe\">\n",
       "  <thead>\n",
       "    <tr style=\"text-align: right;\">\n",
       "      <th></th>\n",
       "      <th>stage</th>\n",
       "      <th>doggo</th>\n",
       "      <th>floofer</th>\n",
       "      <th>pupper</th>\n",
       "      <th>puppo</th>\n",
       "    </tr>\n",
       "  </thead>\n",
       "  <tbody>\n",
       "    <tr>\n",
       "      <th>0</th>\n",
       "      <td>NaN</td>\n",
       "      <td>None</td>\n",
       "      <td>None</td>\n",
       "      <td>None</td>\n",
       "      <td>None</td>\n",
       "    </tr>\n",
       "    <tr>\n",
       "      <th>1</th>\n",
       "      <td>NaN</td>\n",
       "      <td>None</td>\n",
       "      <td>None</td>\n",
       "      <td>None</td>\n",
       "      <td>None</td>\n",
       "    </tr>\n",
       "    <tr>\n",
       "      <th>2</th>\n",
       "      <td>NaN</td>\n",
       "      <td>None</td>\n",
       "      <td>None</td>\n",
       "      <td>None</td>\n",
       "      <td>None</td>\n",
       "    </tr>\n",
       "    <tr>\n",
       "      <th>3</th>\n",
       "      <td>NaN</td>\n",
       "      <td>None</td>\n",
       "      <td>None</td>\n",
       "      <td>None</td>\n",
       "      <td>None</td>\n",
       "    </tr>\n",
       "    <tr>\n",
       "      <th>4</th>\n",
       "      <td>NaN</td>\n",
       "      <td>None</td>\n",
       "      <td>None</td>\n",
       "      <td>None</td>\n",
       "      <td>None</td>\n",
       "    </tr>\n",
       "    <tr>\n",
       "      <th>5</th>\n",
       "      <td>NaN</td>\n",
       "      <td>None</td>\n",
       "      <td>None</td>\n",
       "      <td>None</td>\n",
       "      <td>None</td>\n",
       "    </tr>\n",
       "    <tr>\n",
       "      <th>6</th>\n",
       "      <td>NaN</td>\n",
       "      <td>None</td>\n",
       "      <td>None</td>\n",
       "      <td>None</td>\n",
       "      <td>None</td>\n",
       "    </tr>\n",
       "    <tr>\n",
       "      <th>7</th>\n",
       "      <td>NaN</td>\n",
       "      <td>None</td>\n",
       "      <td>None</td>\n",
       "      <td>None</td>\n",
       "      <td>None</td>\n",
       "    </tr>\n",
       "    <tr>\n",
       "      <th>8</th>\n",
       "      <td>NaN</td>\n",
       "      <td>None</td>\n",
       "      <td>None</td>\n",
       "      <td>None</td>\n",
       "      <td>None</td>\n",
       "    </tr>\n",
       "    <tr>\n",
       "      <th>9</th>\n",
       "      <td>doggo</td>\n",
       "      <td>doggo</td>\n",
       "      <td>None</td>\n",
       "      <td>None</td>\n",
       "      <td>None</td>\n",
       "    </tr>\n",
       "    <tr>\n",
       "      <th>10</th>\n",
       "      <td>NaN</td>\n",
       "      <td>None</td>\n",
       "      <td>None</td>\n",
       "      <td>None</td>\n",
       "      <td>None</td>\n",
       "    </tr>\n",
       "    <tr>\n",
       "      <th>11</th>\n",
       "      <td>NaN</td>\n",
       "      <td>None</td>\n",
       "      <td>None</td>\n",
       "      <td>None</td>\n",
       "      <td>None</td>\n",
       "    </tr>\n",
       "    <tr>\n",
       "      <th>12</th>\n",
       "      <td>puppo</td>\n",
       "      <td>None</td>\n",
       "      <td>None</td>\n",
       "      <td>None</td>\n",
       "      <td>puppo</td>\n",
       "    </tr>\n",
       "    <tr>\n",
       "      <th>13</th>\n",
       "      <td>NaN</td>\n",
       "      <td>None</td>\n",
       "      <td>None</td>\n",
       "      <td>None</td>\n",
       "      <td>None</td>\n",
       "    </tr>\n",
       "    <tr>\n",
       "      <th>14</th>\n",
       "      <td>puppo</td>\n",
       "      <td>None</td>\n",
       "      <td>None</td>\n",
       "      <td>None</td>\n",
       "      <td>puppo</td>\n",
       "    </tr>\n",
       "  </tbody>\n",
       "</table>\n",
       "</div>"
      ],
      "text/plain": [
       "    stage  doggo floofer pupper  puppo\n",
       "0     NaN   None    None   None   None\n",
       "1     NaN   None    None   None   None\n",
       "2     NaN   None    None   None   None\n",
       "3     NaN   None    None   None   None\n",
       "4     NaN   None    None   None   None\n",
       "5     NaN   None    None   None   None\n",
       "6     NaN   None    None   None   None\n",
       "7     NaN   None    None   None   None\n",
       "8     NaN   None    None   None   None\n",
       "9   doggo  doggo    None   None   None\n",
       "10    NaN   None    None   None   None\n",
       "11    NaN   None    None   None   None\n",
       "12  puppo   None    None   None  puppo\n",
       "13    NaN   None    None   None   None\n",
       "14  puppo   None    None   None  puppo"
      ]
     },
     "execution_count": 41,
     "metadata": {},
     "output_type": "execute_result"
    }
   ],
   "source": [
    "# Check that first few instances of dog_stage are similar \n",
    "twitter[['stage','doggo', 'floofer', 'pupper', 'puppo']].head(15)"
   ]
  },
  {
   "cell_type": "code",
   "execution_count": 42,
   "metadata": {},
   "outputs": [],
   "source": [
    "# Drop doggo, floofer, pupper, and puppo columns\n",
    "twitter = twitter.drop(['doggo', 'floofer', 'pupper', 'puppo'], axis=1)"
   ]
  },
  {
   "cell_type": "code",
   "execution_count": 43,
   "metadata": {},
   "outputs": [
    {
     "data": {
      "text/html": [
       "<div>\n",
       "<style scoped>\n",
       "    .dataframe tbody tr th:only-of-type {\n",
       "        vertical-align: middle;\n",
       "    }\n",
       "\n",
       "    .dataframe tbody tr th {\n",
       "        vertical-align: top;\n",
       "    }\n",
       "\n",
       "    .dataframe thead th {\n",
       "        text-align: right;\n",
       "    }\n",
       "</style>\n",
       "<table border=\"1\" class=\"dataframe\">\n",
       "  <thead>\n",
       "    <tr style=\"text-align: right;\">\n",
       "      <th></th>\n",
       "      <th>tweet_id</th>\n",
       "      <th>in_reply_to_status_id</th>\n",
       "      <th>in_reply_to_user_id</th>\n",
       "      <th>timestamp</th>\n",
       "      <th>source</th>\n",
       "      <th>text</th>\n",
       "      <th>retweeted_status_id</th>\n",
       "      <th>retweeted_status_user_id</th>\n",
       "      <th>retweeted_status_timestamp</th>\n",
       "      <th>expanded_urls</th>\n",
       "      <th>...</th>\n",
       "      <th>p1_dog</th>\n",
       "      <th>p2</th>\n",
       "      <th>p2_conf</th>\n",
       "      <th>p2_dog</th>\n",
       "      <th>p3</th>\n",
       "      <th>p3_conf</th>\n",
       "      <th>p3_dog</th>\n",
       "      <th>favorite_count</th>\n",
       "      <th>retweet_count</th>\n",
       "      <th>stage</th>\n",
       "    </tr>\n",
       "  </thead>\n",
       "  <tbody>\n",
       "    <tr>\n",
       "      <th>0</th>\n",
       "      <td>892420643555336193</td>\n",
       "      <td>NaN</td>\n",
       "      <td>NaN</td>\n",
       "      <td>2017-08-01 16:23:56 +0000</td>\n",
       "      <td>&lt;a href=\"http://twitter.com/download/iphone\" r...</td>\n",
       "      <td>This is Phineas. He's a mystical boy. Only eve...</td>\n",
       "      <td>NaN</td>\n",
       "      <td>NaN</td>\n",
       "      <td>NaN</td>\n",
       "      <td>https://twitter.com/dog_rates/status/892420643...</td>\n",
       "      <td>...</td>\n",
       "      <td>False</td>\n",
       "      <td>bagel</td>\n",
       "      <td>0.085851</td>\n",
       "      <td>False</td>\n",
       "      <td>banana</td>\n",
       "      <td>0.076110</td>\n",
       "      <td>False</td>\n",
       "      <td>37805</td>\n",
       "      <td>8244</td>\n",
       "      <td>NaN</td>\n",
       "    </tr>\n",
       "    <tr>\n",
       "      <th>1</th>\n",
       "      <td>892177421306343426</td>\n",
       "      <td>NaN</td>\n",
       "      <td>NaN</td>\n",
       "      <td>2017-08-01 00:17:27 +0000</td>\n",
       "      <td>&lt;a href=\"http://twitter.com/download/iphone\" r...</td>\n",
       "      <td>This is Tilly. She's just checking pup on you....</td>\n",
       "      <td>NaN</td>\n",
       "      <td>NaN</td>\n",
       "      <td>NaN</td>\n",
       "      <td>https://twitter.com/dog_rates/status/892177421...</td>\n",
       "      <td>...</td>\n",
       "      <td>True</td>\n",
       "      <td>Pekinese</td>\n",
       "      <td>0.090647</td>\n",
       "      <td>True</td>\n",
       "      <td>papillon</td>\n",
       "      <td>0.068957</td>\n",
       "      <td>True</td>\n",
       "      <td>32485</td>\n",
       "      <td>6091</td>\n",
       "      <td>NaN</td>\n",
       "    </tr>\n",
       "  </tbody>\n",
       "</table>\n",
       "<p>2 rows × 27 columns</p>\n",
       "</div>"
      ],
      "text/plain": [
       "             tweet_id  in_reply_to_status_id  in_reply_to_user_id  \\\n",
       "0  892420643555336193                    NaN                  NaN   \n",
       "1  892177421306343426                    NaN                  NaN   \n",
       "\n",
       "                   timestamp  \\\n",
       "0  2017-08-01 16:23:56 +0000   \n",
       "1  2017-08-01 00:17:27 +0000   \n",
       "\n",
       "                                              source  \\\n",
       "0  <a href=\"http://twitter.com/download/iphone\" r...   \n",
       "1  <a href=\"http://twitter.com/download/iphone\" r...   \n",
       "\n",
       "                                                text  retweeted_status_id  \\\n",
       "0  This is Phineas. He's a mystical boy. Only eve...                  NaN   \n",
       "1  This is Tilly. She's just checking pup on you....                  NaN   \n",
       "\n",
       "   retweeted_status_user_id retweeted_status_timestamp  \\\n",
       "0                       NaN                        NaN   \n",
       "1                       NaN                        NaN   \n",
       "\n",
       "                                       expanded_urls  ...    p1_dog        p2  \\\n",
       "0  https://twitter.com/dog_rates/status/892420643...  ...     False     bagel   \n",
       "1  https://twitter.com/dog_rates/status/892177421...  ...      True  Pekinese   \n",
       "\n",
       "    p2_conf p2_dog        p3   p3_conf  p3_dog  favorite_count retweet_count  \\\n",
       "0  0.085851  False    banana  0.076110   False           37805          8244   \n",
       "1  0.090647   True  papillon  0.068957    True           32485          6091   \n",
       "\n",
       "   stage  \n",
       "0    NaN  \n",
       "1    NaN  \n",
       "\n",
       "[2 rows x 27 columns]"
      ]
     },
     "execution_count": 43,
     "metadata": {},
     "output_type": "execute_result"
    }
   ],
   "source": [
    "twitter.head(2)"
   ]
  },
  {
   "cell_type": "markdown",
   "metadata": {},
   "source": [
    "### Quality Issue 1 - Remove retweets"
   ]
  },
  {
   "cell_type": "code",
   "execution_count": 44,
   "metadata": {},
   "outputs": [
    {
     "name": "stdout",
     "output_type": "stream",
     "text": [
      "<class 'pandas.core.frame.DataFrame'>\n",
      "Int64Index: 1991 entries, 0 to 2065\n",
      "Data columns (total 27 columns):\n",
      "tweet_id                      1991 non-null int64\n",
      "in_reply_to_status_id         23 non-null float64\n",
      "in_reply_to_user_id           23 non-null float64\n",
      "timestamp                     1991 non-null object\n",
      "source                        1991 non-null object\n",
      "text                          1991 non-null object\n",
      "retweeted_status_id           0 non-null float64\n",
      "retweeted_status_user_id      0 non-null float64\n",
      "retweeted_status_timestamp    0 non-null object\n",
      "expanded_urls                 1991 non-null object\n",
      "rating_numerator              1991 non-null int64\n",
      "rating_denominator            1991 non-null int64\n",
      "name                          1991 non-null object\n",
      "jpg_url                       1991 non-null object\n",
      "img_num                       1991 non-null int64\n",
      "p1                            1991 non-null object\n",
      "p1_conf                       1991 non-null float64\n",
      "p1_dog                        1991 non-null bool\n",
      "p2                            1991 non-null object\n",
      "p2_conf                       1991 non-null float64\n",
      "p2_dog                        1991 non-null bool\n",
      "p3                            1991 non-null object\n",
      "p3_conf                       1991 non-null float64\n",
      "p3_dog                        1991 non-null bool\n",
      "favorite_count                1991 non-null int64\n",
      "retweet_count                 1991 non-null int64\n",
      "stage                         326 non-null object\n",
      "dtypes: bool(3), float64(7), int64(6), object(11)\n",
      "memory usage: 394.7+ KB\n",
      "None\n"
     ]
    }
   ],
   "source": [
    "# Keep columns where 'retweeted_status_id' is NaN\n",
    "twitter = twitter[np.isnan(twitter.retweeted_status_id)]\n",
    "\n",
    "# Check that there are no non-null entries for 'retweeted_status_id', 'retweeted_status_user_id' and 'retweeted_status_timestamp'\n",
    "\n",
    "print(twitter.info())\n",
    "\n",
    "# Remove 'retweeted_status_id', 'retweeted_status_user_id' and \n",
    "# 'retweeted_status_timestamp' columns\n",
    "twitter = twitter.drop(['retweeted_status_id', \n",
    "                        'retweeted_status_user_id', \n",
    "                        'retweeted_status_timestamp'], \n",
    "                       axis=1)"
   ]
  },
  {
   "cell_type": "code",
   "execution_count": 45,
   "metadata": {},
   "outputs": [
    {
     "name": "stdout",
     "output_type": "stream",
     "text": [
      "<class 'pandas.core.frame.DataFrame'>\n",
      "Int64Index: 1991 entries, 0 to 2065\n",
      "Data columns (total 24 columns):\n",
      "tweet_id                 1991 non-null int64\n",
      "in_reply_to_status_id    23 non-null float64\n",
      "in_reply_to_user_id      23 non-null float64\n",
      "timestamp                1991 non-null object\n",
      "source                   1991 non-null object\n",
      "text                     1991 non-null object\n",
      "expanded_urls            1991 non-null object\n",
      "rating_numerator         1991 non-null int64\n",
      "rating_denominator       1991 non-null int64\n",
      "name                     1991 non-null object\n",
      "jpg_url                  1991 non-null object\n",
      "img_num                  1991 non-null int64\n",
      "p1                       1991 non-null object\n",
      "p1_conf                  1991 non-null float64\n",
      "p1_dog                   1991 non-null bool\n",
      "p2                       1991 non-null object\n",
      "p2_conf                  1991 non-null float64\n",
      "p2_dog                   1991 non-null bool\n",
      "p3                       1991 non-null object\n",
      "p3_conf                  1991 non-null float64\n",
      "p3_dog                   1991 non-null bool\n",
      "favorite_count           1991 non-null int64\n",
      "retweet_count            1991 non-null int64\n",
      "stage                    326 non-null object\n",
      "dtypes: bool(3), float64(5), int64(6), object(10)\n",
      "memory usage: 348.0+ KB\n"
     ]
    }
   ],
   "source": [
    "twitter.info()"
   ]
  },
  {
   "cell_type": "markdown",
   "metadata": {},
   "source": [
    "### Quality Issue 2 - tweet_id is an integer"
   ]
  },
  {
   "cell_type": "code",
   "execution_count": 46,
   "metadata": {},
   "outputs": [],
   "source": [
    "# Change 'tweet_id' to a string\n",
    "twitter['tweet_id'] = twitter['tweet_id'].astype(str)"
   ]
  },
  {
   "cell_type": "code",
   "execution_count": 47,
   "metadata": {},
   "outputs": [
    {
     "name": "stdout",
     "output_type": "stream",
     "text": [
      "<class 'pandas.core.frame.DataFrame'>\n",
      "Int64Index: 1991 entries, 0 to 2065\n",
      "Data columns (total 24 columns):\n",
      "tweet_id                 1991 non-null object\n",
      "in_reply_to_status_id    23 non-null float64\n",
      "in_reply_to_user_id      23 non-null float64\n",
      "timestamp                1991 non-null object\n",
      "source                   1991 non-null object\n",
      "text                     1991 non-null object\n",
      "expanded_urls            1991 non-null object\n",
      "rating_numerator         1991 non-null int64\n",
      "rating_denominator       1991 non-null int64\n",
      "name                     1991 non-null object\n",
      "jpg_url                  1991 non-null object\n",
      "img_num                  1991 non-null int64\n",
      "p1                       1991 non-null object\n",
      "p1_conf                  1991 non-null float64\n",
      "p1_dog                   1991 non-null bool\n",
      "p2                       1991 non-null object\n",
      "p2_conf                  1991 non-null float64\n",
      "p2_dog                   1991 non-null bool\n",
      "p3                       1991 non-null object\n",
      "p3_conf                  1991 non-null float64\n",
      "p3_dog                   1991 non-null bool\n",
      "favorite_count           1991 non-null int64\n",
      "retweet_count            1991 non-null int64\n",
      "stage                    326 non-null object\n",
      "dtypes: bool(3), float64(5), int64(5), object(11)\n",
      "memory usage: 348.0+ KB\n"
     ]
    }
   ],
   "source": [
    "twitter.info()"
   ]
  },
  {
   "cell_type": "markdown",
   "metadata": {},
   "source": [
    "### Quality Issue 3 - 'timestamp' type"
   ]
  },
  {
   "cell_type": "code",
   "execution_count": 49,
   "metadata": {},
   "outputs": [],
   "source": [
    "#Remove the time zone information from 'timestamp' column\n",
    "twitter['timestamp'] = twitter['timestamp'].str.slice(start=0, stop=-6)"
   ]
  },
  {
   "cell_type": "code",
   "execution_count": 50,
   "metadata": {},
   "outputs": [],
   "source": [
    "# Change the 'timestamp' column to a datetime object\n",
    "twitter['timestamp'] = pd.to_datetime(twitter['timestamp'], format = \"%Y-%m-%d %H:%M:%S\")"
   ]
  },
  {
   "cell_type": "code",
   "execution_count": 51,
   "metadata": {},
   "outputs": [
    {
     "name": "stdout",
     "output_type": "stream",
     "text": [
      "<class 'pandas.core.frame.DataFrame'>\n",
      "Int64Index: 1991 entries, 0 to 2065\n",
      "Data columns (total 24 columns):\n",
      "tweet_id                 1991 non-null object\n",
      "in_reply_to_status_id    23 non-null float64\n",
      "in_reply_to_user_id      23 non-null float64\n",
      "timestamp                1991 non-null datetime64[ns]\n",
      "source                   1991 non-null object\n",
      "text                     1991 non-null object\n",
      "expanded_urls            1991 non-null object\n",
      "rating_numerator         1991 non-null int64\n",
      "rating_denominator       1991 non-null int64\n",
      "name                     1991 non-null object\n",
      "jpg_url                  1991 non-null object\n",
      "img_num                  1991 non-null int64\n",
      "p1                       1991 non-null object\n",
      "p1_conf                  1991 non-null float64\n",
      "p1_dog                   1991 non-null bool\n",
      "p2                       1991 non-null object\n",
      "p2_conf                  1991 non-null float64\n",
      "p2_dog                   1991 non-null bool\n",
      "p3                       1991 non-null object\n",
      "p3_conf                  1991 non-null float64\n",
      "p3_dog                   1991 non-null bool\n",
      "favorite_count           1991 non-null int64\n",
      "retweet_count            1991 non-null int64\n",
      "stage                    326 non-null object\n",
      "dtypes: bool(3), datetime64[ns](1), float64(5), int64(5), object(10)\n",
      "memory usage: 348.0+ KB\n"
     ]
    }
   ],
   "source": [
    "twitter.info()"
   ]
  },
  {
   "cell_type": "markdown",
   "metadata": {},
   "source": [
    "### Quality Issue 4 -Issues with 'name'"
   ]
  },
  {
   "cell_type": "code",
   "execution_count": 52,
   "metadata": {},
   "outputs": [
    {
     "name": "stdout",
     "output_type": "stream",
     "text": [
      "['such', 'a', 'quite', 'one', 'incredibly', 'very', 'my', 'not', 'his', 'an', 'just', 'getting', 'this', 'unacceptable', 'all', 'infuriating', 'the', 'actually', 'by', 'officially', 'light', 'space']\n"
     ]
    }
   ],
   "source": [
    "# Find all names that start with a lowercase letter\n",
    "lowercase_names = []\n",
    "for row in twitter['name']:\n",
    "    if row[0].islower() and row not in lowercase_names:\n",
    "        lowercase_names.append(row)\n",
    "print(lowercase_names)"
   ]
  },
  {
   "cell_type": "code",
   "execution_count": 53,
   "metadata": {},
   "outputs": [],
   "source": [
    "# Replace all names that start with a lowercase letter with a NaN\n",
    "twitter['name'].replace(lowercase_names, \n",
    "                        np.nan,\n",
    "                       inplace = True)\n",
    "\n",
    "# Replace all 'None's with a NaN\n",
    "twitter['name'].replace('None', \n",
    "                        np.nan,\n",
    "                       inplace = True)"
   ]
  },
  {
   "cell_type": "code",
   "execution_count": 54,
   "metadata": {},
   "outputs": [
    {
     "data": {
      "text/plain": [
       "Charlie         10\n",
       "Oliver          10\n",
       "Lucy            10\n",
       "Cooper          10\n",
       "Tucker           9\n",
       "Penny            9\n",
       "Sadie            8\n",
       "Winston          8\n",
       "Daisy            7\n",
       "Toby             7\n",
       "Lola             7\n",
       "Jax              6\n",
       "Bella            6\n",
       "Koda             6\n",
       "Stanley          6\n",
       "Bo               6\n",
       "Rusty            5\n",
       "Leo              5\n",
       "Dave             5\n",
       "Buddy            5\n",
       "Milo             5\n",
       "Bailey           5\n",
       "Chester          5\n",
       "Louis            5\n",
       "Oscar            5\n",
       "Scout            5\n",
       "Archie           4\n",
       "Alfie            4\n",
       "Bear             4\n",
       "Dexter           4\n",
       "                ..\n",
       "Nugget           1\n",
       "Keet             1\n",
       "Swagger          1\n",
       "Milky            1\n",
       "Snickers         1\n",
       "Tobi             1\n",
       "Carter           1\n",
       "Willie           1\n",
       "Miguel           1\n",
       "Arya             1\n",
       "Sully            1\n",
       "Brady            1\n",
       "Devón            1\n",
       "Ziva             1\n",
       "Cleopatricia     1\n",
       "Glenn            1\n",
       "Remus            1\n",
       "Cecil            1\n",
       "Mimosa           1\n",
       "Antony           1\n",
       "Ralphson         1\n",
       "Anakin           1\n",
       "Darrel           1\n",
       "Fillup           1\n",
       "Koko             1\n",
       "Pipsy            1\n",
       "Cheesy           1\n",
       "Raphael          1\n",
       "Nimbus           1\n",
       "Tess             1\n",
       "Name: name, Length: 912, dtype: int64"
      ]
     },
     "execution_count": 54,
     "metadata": {},
     "output_type": "execute_result"
    }
   ],
   "source": [
    "twitter['name'].value_counts()"
   ]
  },
  {
   "cell_type": "markdown",
   "metadata": {},
   "source": [
    "### Quality Issue 5 - Unstandardized ratings"
   ]
  },
  {
   "cell_type": "code",
   "execution_count": 55,
   "metadata": {},
   "outputs": [],
   "source": [
    "# Calulate the value of 'rating'\n",
    "twitter['rating'] = twitter['rating_numerator'] / twitter['rating_denominator']"
   ]
  },
  {
   "cell_type": "code",
   "execution_count": 56,
   "metadata": {},
   "outputs": [
    {
     "data": {
      "text/html": [
       "<div>\n",
       "<style scoped>\n",
       "    .dataframe tbody tr th:only-of-type {\n",
       "        vertical-align: middle;\n",
       "    }\n",
       "\n",
       "    .dataframe tbody tr th {\n",
       "        vertical-align: top;\n",
       "    }\n",
       "\n",
       "    .dataframe thead th {\n",
       "        text-align: right;\n",
       "    }\n",
       "</style>\n",
       "<table border=\"1\" class=\"dataframe\">\n",
       "  <thead>\n",
       "    <tr style=\"text-align: right;\">\n",
       "      <th></th>\n",
       "      <th>tweet_id</th>\n",
       "      <th>in_reply_to_status_id</th>\n",
       "      <th>in_reply_to_user_id</th>\n",
       "      <th>timestamp</th>\n",
       "      <th>source</th>\n",
       "      <th>text</th>\n",
       "      <th>expanded_urls</th>\n",
       "      <th>rating_numerator</th>\n",
       "      <th>rating_denominator</th>\n",
       "      <th>name</th>\n",
       "      <th>...</th>\n",
       "      <th>p2</th>\n",
       "      <th>p2_conf</th>\n",
       "      <th>p2_dog</th>\n",
       "      <th>p3</th>\n",
       "      <th>p3_conf</th>\n",
       "      <th>p3_dog</th>\n",
       "      <th>favorite_count</th>\n",
       "      <th>retweet_count</th>\n",
       "      <th>stage</th>\n",
       "      <th>rating</th>\n",
       "    </tr>\n",
       "  </thead>\n",
       "  <tbody>\n",
       "    <tr>\n",
       "      <th>0</th>\n",
       "      <td>892420643555336193</td>\n",
       "      <td>NaN</td>\n",
       "      <td>NaN</td>\n",
       "      <td>2017-08-01 16:23:56</td>\n",
       "      <td>&lt;a href=\"http://twitter.com/download/iphone\" r...</td>\n",
       "      <td>This is Phineas. He's a mystical boy. Only eve...</td>\n",
       "      <td>https://twitter.com/dog_rates/status/892420643...</td>\n",
       "      <td>13</td>\n",
       "      <td>10</td>\n",
       "      <td>Phineas</td>\n",
       "      <td>...</td>\n",
       "      <td>bagel</td>\n",
       "      <td>0.085851</td>\n",
       "      <td>False</td>\n",
       "      <td>banana</td>\n",
       "      <td>0.07611</td>\n",
       "      <td>False</td>\n",
       "      <td>37805</td>\n",
       "      <td>8244</td>\n",
       "      <td>NaN</td>\n",
       "      <td>1.3</td>\n",
       "    </tr>\n",
       "  </tbody>\n",
       "</table>\n",
       "<p>1 rows × 25 columns</p>\n",
       "</div>"
      ],
      "text/plain": [
       "             tweet_id  in_reply_to_status_id  in_reply_to_user_id  \\\n",
       "0  892420643555336193                    NaN                  NaN   \n",
       "\n",
       "            timestamp                                             source  \\\n",
       "0 2017-08-01 16:23:56  <a href=\"http://twitter.com/download/iphone\" r...   \n",
       "\n",
       "                                                text  \\\n",
       "0  This is Phineas. He's a mystical boy. Only eve...   \n",
       "\n",
       "                                       expanded_urls  rating_numerator  \\\n",
       "0  https://twitter.com/dog_rates/status/892420643...                13   \n",
       "\n",
       "   rating_denominator     name   ...       p2   p2_conf p2_dog      p3  \\\n",
       "0                  10  Phineas   ...    bagel  0.085851  False  banana   \n",
       "\n",
       "   p3_conf p3_dog  favorite_count  retweet_count stage  rating  \n",
       "0  0.07611  False           37805           8244   NaN     1.3  \n",
       "\n",
       "[1 rows x 25 columns]"
      ]
     },
     "execution_count": 56,
     "metadata": {},
     "output_type": "execute_result"
    }
   ],
   "source": [
    "twitter.head(1)"
   ]
  },
  {
   "cell_type": "markdown",
   "metadata": {},
   "source": [
    "### Quality Issue 6 - Drop undesired columns and change column names"
   ]
  },
  {
   "cell_type": "code",
   "execution_count": 57,
   "metadata": {},
   "outputs": [],
   "source": [
    "# Change some column names so they are shorter\n",
    "twitter.rename(columns={'rating_numerator': 'numerator', \n",
    "                        'rating_denominator': 'denominator'}, inplace=True)\n",
    "\n",
    "# Drop undesired columns to make dataframe easier to view\n",
    "twitter.drop(['in_reply_to_status_id', \n",
    "              'in_reply_to_user_id',\n",
    "              'source',\n",
    "              'img_num'], axis=1, inplace=True)\n",
    "\n",
    "# Allow all columns and text to be shown \n",
    "pd.set_option('display.max_columns', None)"
   ]
  },
  {
   "cell_type": "code",
   "execution_count": 58,
   "metadata": {},
   "outputs": [
    {
     "data": {
      "text/html": [
       "<div>\n",
       "<style scoped>\n",
       "    .dataframe tbody tr th:only-of-type {\n",
       "        vertical-align: middle;\n",
       "    }\n",
       "\n",
       "    .dataframe tbody tr th {\n",
       "        vertical-align: top;\n",
       "    }\n",
       "\n",
       "    .dataframe thead th {\n",
       "        text-align: right;\n",
       "    }\n",
       "</style>\n",
       "<table border=\"1\" class=\"dataframe\">\n",
       "  <thead>\n",
       "    <tr style=\"text-align: right;\">\n",
       "      <th></th>\n",
       "      <th>tweet_id</th>\n",
       "      <th>timestamp</th>\n",
       "      <th>text</th>\n",
       "      <th>expanded_urls</th>\n",
       "      <th>numerator</th>\n",
       "      <th>denominator</th>\n",
       "      <th>name</th>\n",
       "      <th>jpg_url</th>\n",
       "      <th>p1</th>\n",
       "      <th>p1_conf</th>\n",
       "      <th>p1_dog</th>\n",
       "      <th>p2</th>\n",
       "      <th>p2_conf</th>\n",
       "      <th>p2_dog</th>\n",
       "      <th>p3</th>\n",
       "      <th>p3_conf</th>\n",
       "      <th>p3_dog</th>\n",
       "      <th>favorite_count</th>\n",
       "      <th>retweet_count</th>\n",
       "      <th>stage</th>\n",
       "      <th>rating</th>\n",
       "    </tr>\n",
       "  </thead>\n",
       "  <tbody>\n",
       "    <tr>\n",
       "      <th>0</th>\n",
       "      <td>892420643555336193</td>\n",
       "      <td>2017-08-01 16:23:56</td>\n",
       "      <td>This is Phineas. He's a mystical boy. Only eve...</td>\n",
       "      <td>https://twitter.com/dog_rates/status/892420643...</td>\n",
       "      <td>13</td>\n",
       "      <td>10</td>\n",
       "      <td>Phineas</td>\n",
       "      <td>https://pbs.twimg.com/media/DGKD1-bXoAAIAUK.jpg</td>\n",
       "      <td>orange</td>\n",
       "      <td>0.097049</td>\n",
       "      <td>False</td>\n",
       "      <td>bagel</td>\n",
       "      <td>0.085851</td>\n",
       "      <td>False</td>\n",
       "      <td>banana</td>\n",
       "      <td>0.07611</td>\n",
       "      <td>False</td>\n",
       "      <td>37805</td>\n",
       "      <td>8244</td>\n",
       "      <td>NaN</td>\n",
       "      <td>1.3</td>\n",
       "    </tr>\n",
       "  </tbody>\n",
       "</table>\n",
       "</div>"
      ],
      "text/plain": [
       "             tweet_id           timestamp  \\\n",
       "0  892420643555336193 2017-08-01 16:23:56   \n",
       "\n",
       "                                                text  \\\n",
       "0  This is Phineas. He's a mystical boy. Only eve...   \n",
       "\n",
       "                                       expanded_urls  numerator  denominator  \\\n",
       "0  https://twitter.com/dog_rates/status/892420643...         13           10   \n",
       "\n",
       "      name                                          jpg_url      p1   p1_conf  \\\n",
       "0  Phineas  https://pbs.twimg.com/media/DGKD1-bXoAAIAUK.jpg  orange  0.097049   \n",
       "\n",
       "   p1_dog     p2   p2_conf  p2_dog      p3  p3_conf  p3_dog  favorite_count  \\\n",
       "0   False  bagel  0.085851   False  banana  0.07611   False           37805   \n",
       "\n",
       "   retweet_count stage  rating  \n",
       "0           8244   NaN     1.3  "
      ]
     },
     "execution_count": 58,
     "metadata": {},
     "output_type": "execute_result"
    }
   ],
   "source": [
    "twitter.head(1)"
   ]
  },
  {
   "cell_type": "markdown",
   "metadata": {},
   "source": [
    "## Analyze and Visualize"
   ]
  },
  {
   "cell_type": "code",
   "execution_count": 59,
   "metadata": {},
   "outputs": [],
   "source": [
    "# Save twitter dataframe to a CSV file\n",
    "twitter.to_csv('twitter_archive_master.csv')"
   ]
  },
  {
   "cell_type": "markdown",
   "metadata": {},
   "source": [
    "**Number of Tweets posted by WeRateDogs over time**"
   ]
  },
  {
   "cell_type": "code",
   "execution_count": 60,
   "metadata": {},
   "outputs": [
    {
     "data": {
      "text/plain": [
       "2015-11    296\n",
       "2015-12    366\n",
       "2016-01    169\n",
       "2016-02    111\n",
       "2016-03    120\n",
       "2016-04     54\n",
       "2016-05     57\n",
       "2016-06     81\n",
       "2016-07     87\n",
       "2016-08     59\n",
       "2016-09     63\n",
       "2016-10     65\n",
       "2016-11     53\n",
       "2016-12     54\n",
       "2017-01     66\n",
       "2017-02     64\n",
       "2017-03     48\n",
       "2017-04     41\n",
       "2017-05     43\n",
       "2017-06     43\n",
       "2017-07     49\n",
       "2017-08      2\n",
       "Name: timestamp, dtype: int64"
      ]
     },
     "execution_count": 60,
     "metadata": {},
     "output_type": "execute_result"
    }
   ],
   "source": [
    "twitter['timestamp'].apply(lambda x: x.strftime('%Y-%m')).value_counts().sort_index()"
   ]
  },
  {
   "cell_type": "markdown",
   "metadata": {},
   "source": [
    "We can see that most Tweets in our dataset were posted in the end of 2015 and the beginning of 2016. "
   ]
  },
  {
   "cell_type": "markdown",
   "metadata": {},
   "source": [
    "**Ratings over time**"
   ]
  },
  {
   "cell_type": "code",
   "execution_count": 61,
   "metadata": {},
   "outputs": [
    {
     "data": {
      "text/plain": [
       "<function matplotlib.pyplot.show(*args, **kw)>"
      ]
     },
     "execution_count": 61,
     "metadata": {},
     "output_type": "execute_result"
    },
    {
     "data": {
      "image/png": "[encoded data removed]",
      "text/plain": [
       "<matplotlib.figure.Figure at 0x7f1eb825e400>"
      ]
     },
     "metadata": {
      "needs_background": "light"
     },
     "output_type": "display_data"
    }
   ],
   "source": [
    "# Plot standardized ratings over time\n",
    "twitter.groupby('timestamp')['rating'].mean().plot(kind='line')\n",
    "plt.title('Rating over Time')\n",
    "plt.xlabel('Time')\n",
    "plt.ylabel('Standardized Rating')\n",
    "plt.show"
   ]
  },
  {
   "cell_type": "code",
   "execution_count": 62,
   "metadata": {},
   "outputs": [
    {
     "data": {
      "image/png": "[encoded data removed]",
      "text/plain": [
       "<matplotlib.figure.Figure at 0x7f1eb7c58198>"
      ]
     },
     "metadata": {
      "needs_background": "light"
     },
     "output_type": "display_data"
    }
   ],
   "source": [
    "# Plot standardized ratings over time from 0-2, as the ones over 2 must definetly be outliers.\n",
    "twitter.groupby('timestamp')['rating'].mean().plot(kind='line')\n",
    "plt.ylim(0, 2)\n",
    "plt.title('Rating over Time')\n",
    "plt.xlabel('Time')\n",
    "plt.ylabel('Standardized Rating')\n",
    "plt.show;"
   ]
  },
  {
   "cell_type": "markdown",
   "metadata": {},
   "source": [
    "As the standardized ratings (numerator/denominator = 10) increases over time, we can observe that the popular rating over 10 was given mostly between the end of 2015 and the beginning of 2016, which is also the time when people posted the most. We can conclude that at that time there was probably a trend or hype around WeRateDogs."
   ]
  },
  {
   "cell_type": "markdown",
   "metadata": {},
   "source": [
    "**Most common dog names**"
   ]
  },
  {
   "cell_type": "code",
   "execution_count": 63,
   "metadata": {},
   "outputs": [
    {
     "data": {
      "image/png": "[encoded data removed]",
      "text/plain": [
       "<matplotlib.figure.Figure at 0x7f1eb5492780>"
      ]
     },
     "metadata": {
      "needs_background": "light"
     },
     "output_type": "display_data"
    }
   ],
   "source": [
    "twitter.name.value_counts()[1:7].plot('barh', figsize=(11,5), title='Top 6 common dog names').set_xlabel(\"Number of Dogs\")\n",
    "plt.savefig('dog_names')"
   ]
  },
  {
   "cell_type": "code",
   "execution_count": 66,
   "metadata": {},
   "outputs": [
    {
     "data": {
      "text/plain": [
       "Charlie         10\n",
       "Oliver          10\n",
       "Lucy            10\n",
       "Cooper          10\n",
       "Tucker           9\n",
       "Penny            9\n",
       "Sadie            8\n",
       "Winston          8\n",
       "Daisy            7\n",
       "Toby             7\n",
       "Lola             7\n",
       "Jax              6\n",
       "Bella            6\n",
       "Koda             6\n",
       "Stanley          6\n",
       "Bo               6\n",
       "Rusty            5\n",
       "Leo              5\n",
       "Dave             5\n",
       "Buddy            5\n",
       "Milo             5\n",
       "Bailey           5\n",
       "Chester          5\n",
       "Louis            5\n",
       "Oscar            5\n",
       "Scout            5\n",
       "Archie           4\n",
       "Alfie            4\n",
       "Bear             4\n",
       "Dexter           4\n",
       "                ..\n",
       "Nugget           1\n",
       "Keet             1\n",
       "Swagger          1\n",
       "Milky            1\n",
       "Snickers         1\n",
       "Tobi             1\n",
       "Carter           1\n",
       "Willie           1\n",
       "Miguel           1\n",
       "Arya             1\n",
       "Sully            1\n",
       "Brady            1\n",
       "Devón            1\n",
       "Ziva             1\n",
       "Cleopatricia     1\n",
       "Glenn            1\n",
       "Remus            1\n",
       "Cecil            1\n",
       "Mimosa           1\n",
       "Antony           1\n",
       "Ralphson         1\n",
       "Anakin           1\n",
       "Darrel           1\n",
       "Fillup           1\n",
       "Koko             1\n",
       "Pipsy            1\n",
       "Cheesy           1\n",
       "Raphael          1\n",
       "Nimbus           1\n",
       "Tess             1\n",
       "Name: name, Length: 912, dtype: int64"
      ]
     },
     "execution_count": 66,
     "metadata": {},
     "output_type": "execute_result"
    }
   ],
   "source": [
    "twitter.name.value_counts()"
   ]
  },
  {
   "cell_type": "markdown",
   "metadata": {},
   "source": [
    "In the visualization and the calculation below we can see the most popular dog names in our dataset. The top 3 are: Charlie, Lucy and Cooper."
   ]
  },
  {
   "cell_type": "markdown",
   "metadata": {},
   "source": [
    "**Correlation between retweet and favorite count**"
   ]
  },
  {
   "cell_type": "code",
   "execution_count": 68,
   "metadata": {},
   "outputs": [
    {
     "data": {
      "image/png": "[encoded data removed]",
      "text/plain": [
       "<matplotlib.figure.Figure at 0x7f1eace3c6d8>"
      ]
     },
     "metadata": {
      "needs_background": "light"
     },
     "output_type": "display_data"
    }
   ],
   "source": [
    "# Plot scatterplot of retweet vs favorite count\n",
    "import seaborn as sns\n",
    "\n",
    "sns.lmplot(x=\"retweet_count\", \n",
    "           y=\"favorite_count\", \n",
    "           data=twitter,\n",
    "           size = 5,\n",
    "           aspect=1.3,\n",
    "           scatter_kws={'alpha':1/5})\n",
    "plt.title('Favorite vs. Retweet Count')\n",
    "plt.xlabel('Retweet Count')\n",
    "plt.ylabel('Favorite Count');"
   ]
  },
  {
   "cell_type": "markdown",
   "metadata": {},
   "source": [
    "We can see that favorite and retweet counts are highly positively correlated. For about every 4 favorites there is 1 retweet."
   ]
  }
 ],
 "metadata": {
  "kernelspec": {
   "display_name": "Python 3",
   "language": "python",
   "name": "python3"
  },
  "language_info": {
   "codemirror_mode": {
    "name": "ipython",
    "version": 3
   },
   "file_extension": ".py",
   "mimetype": "text/x-python",
   "name": "python",
   "nbconvert_exporter": "python",
   "pygments_lexer": "ipython3",
   "version": "3.6.3"
  }
 },
 "nbformat": 4,
 "nbformat_minor": 2
}
